{
 "cells": [
  {
   "cell_type": "markdown",
   "id": "8ea7b2ea-c38e-41df-9fd5-ebb9dc71141c",
   "metadata": {},
   "source": [
    "# Setup Python Umgebung - Schritt für Schritt\n",
    "\n",
    "Um ein möglichst einfaches und einheitliches Setup zu haben, gehe ich hier alle Schritte zum\n",
    "Setup einer funktionierenden Python Entwicklungsumgebung durch. Ich starte hierbei von einer\n",
    "Anaconda Installation wie sie in EIMS nötig war, diese wird hier nur kurz erklärt. Danach werde\n",
    "ich Schritt für Schritt vorgehen, um ein problemloses Nachverfolgen zu gewährleisten."
   ]
  },
  {
   "cell_type": "markdown",
   "id": "9ebebc48-d06d-4c76-b671-3c5882412297",
   "metadata": {},
   "source": [
    "## Voraussetzungen\n",
    "\n",
    "### Anaconda Installation\n",
    "\n",
    "* Download Link für den [Anaconda Installer](https://www.anaconda.com/download/success)\n",
    "* Installer ausführen"
   ]
  },
  {
   "cell_type": "markdown",
   "id": "2bd2068e-24bb-4d4c-ad68-c90651408382",
   "metadata": {},
   "source": [
    "## Visual Studio Code installieren\n",
    "\n",
    "* VSCode über App Store oder via Download von https://code.visualstudio.com/download installieren\n",
    "\n",
    "### Minimales Setup\n",
    "\n",
    "* Extensions installieren:\n",
    "    * Python\n",
    "    * Jupyter\n"
   ]
  },
  {
   "cell_type": "markdown",
   "id": "8805dfd4",
   "metadata": {},
   "source": [
    "## Mithilfe von Git mein Beispielrepository clonen\n",
    "\n",
    "### Git installieren\n",
    "\n",
    "* Allgemein: https://git-scm.com/book/en/v2/Getting-Started-Installing-Git\n",
    "* Git for Windows: https://git-scm.com/downloads/win\n",
    "* Einstellungen für die Installation:\n",
    "    * Components ohne Windows Explorer, mit Profile for Windows Terminal\n",
    "    * Default Editor ändern\n",
    "    * Rebase bei git pull\n",
    "* VSCode neu starten damit Git erkannt wird\n",
    "\n",
    "Git ist ein Command Line Tool zur Versionskontrolle und zum Teilen von Code / Textdateien.\n",
    "Das bietet Vorteile wie automatisches Backup, Rückverfolgbarkeit und einfachere Kollaboration.\n",
    "Wir werden git hier hauptsächlich über die grafische Integration in VSCode verwenden,\n",
    "statt direkt über die Command Line. Ein kleines Intro in die wichtigsten Command Line Befehle \n",
    "findet ihr in [00_prerequisites.ipynb](00_prerequisites.ipynb).\n",
    "\n"
   ]
  },
  {
   "cell_type": "markdown",
   "id": "550c618b",
   "metadata": {},
   "source": [
    "### Git Repository klonen\n",
    "\n",
    "* Öffne in der VSCode Side Bar den Source Control Tab\n",
    "* Wähle Clone Repository mit der https URL meines git Repositories: https://github.com/skloibhofer/fh-pandapower-cosimulation.git\n",
    "* Um neue Änderungen zu synchronisieren, wähle in den SOURCE CONTROL Einstellungen (3 Punkte rechts oben in der Sidebar) auch die Source Control Repositories aus.\n",
    "* Um selbst Änderungen mit git zu Versionieren (commit), müssen User Name und Mail Adresse gesetzt werden\n",
    "    * Dazu öffnen wir in VSCode ein Terminal Fenster, oder öffnen Git Bash\n",
    "    * Hier führen wir zwei Befehle aus:\n",
    "\n",
    "    ```bash\n",
    "    git config --global user.name \"John Doe\"\n",
    "    git config --global user.email johndoe@example.com\n",
    "    ```\n",
    "\n",
    "* Um ein eigenes Git Repository zum Versionieren der eigenen Arbeit anzulegen, muss ein Account auf Github angelegt werden.\n",
    "  Auf https://github.com/signup Benutzer und Repository anlegen und dann den Setup Steps folgen."
   ]
  },
  {
   "cell_type": "markdown",
   "id": "65602184",
   "metadata": {},
   "source": [
    "### Python Umgebung aufsetzen\n",
    "\n",
    "Das FH Pandapower Cosimulation Repository und die enthaltenen Notebooks verwenden manche Libraries die nicht in Anaconda enthalten sind.\n",
    "Daher erstellen wir eine neue conda Umgebung, in die wir alle Pakete installieren. Wir nutzen dazu den Anaconda Navigator,\n",
    "wobei auch die Command Line benutzt werden könnte.\n",
    "\n",
    "* Zuerst fügen wir den Channel conda_forge hinzu. Channels > Add... > **conda-forge**\n",
    "* Dann importieren wir die Environment aus dem [environment.yaml](environment.yaml)\n",
    "* Alternativ kann dies auch in der CLI geschehen: \n",
    "    `conda create --file environment.yaml -n name`"
   ]
  },
  {
   "cell_type": "markdown",
   "id": "4e1b1a33",
   "metadata": {},
   "source": [
    "## Nächste Schritte in VSCode\n",
    "\n",
    "* Notebook [01_basics.ipynb](01_basics.ipynb) öffnen, Select Kernel > Python Environments > pandapower312 (Wenn die neue Environment noch nicht gefunden wird, VSCode neu starten)\n",
    "* Zellen ausführen mit Shift + Enter\n",
    "* Um nicht in Konflikt mit meinem Repository zu kommen, öffnen wir einen weitern Ordner für unsere ersten Python Projekt Versuche:\n",
    "    * File > Add Folder to Workspace... > Neuen oder existierenden Ordner auswählen\n",
    "    * Wenn der Ordner auch mit Git getracked werden soll: Strg + Shift + P > Git: Initialize Repository\n",
    "    * Um den Ordner mit einem Github Account zu verbinden: Publish to Github \n"
   ]
  },
  {
   "cell_type": "markdown",
   "id": "88929ea9",
   "metadata": {},
   "source": []
  },
  {
   "cell_type": "markdown",
   "id": "ff65714a",
   "metadata": {},
   "source": []
  }
 ],
 "metadata": {
  "kernelspec": {
   "display_name": "Python 3 (ipykernel)",
   "language": "python",
   "name": "python3"
  },
  "language_info": {
   "codemirror_mode": {
    "name": "ipython",
    "version": 3
   },
   "file_extension": ".py",
   "mimetype": "text/x-python",
   "name": "python",
   "nbconvert_exporter": "python",
   "pygments_lexer": "ipython3",
   "version": "3.12.7"
  },
  "toc-autonumbering": true
 },
 "nbformat": 4,
 "nbformat_minor": 5
}
