{
 "cells": [
  {
   "cell_type": "markdown",
   "id": "8ea7b2ea-c38e-41df-9fd5-ebb9dc71141c",
   "metadata": {},
   "source": [
    "# Setup Python Umgebung 2024\n",
    "\n",
    "Um ein möglichst einfaches und einheitliches Setup zu haben, gehe ich hier alle Schritte zum\n",
    "Setup einer funktionierenden Python Entwicklungsumgebung durch. Ich starte hierbei von einer\n",
    "Anaconda Installation wie sie in EIMS nötig war, diese wird hier nur kurz erklärt. Danach werde\n",
    "ich Schritt für Schritt vorgehen, und plane auch die Einheit aufzunehmen, um ein problemloses \n",
    "Nachverfolgen zu gewährleisten."
   ]
  },
  {
   "cell_type": "markdown",
   "id": "9ebebc48-d06d-4c76-b671-3c5882412297",
   "metadata": {},
   "source": [
    "## Voraussetzungen\n",
    "\n",
    "### Anaconda Installation\n",
    "\n",
    "* Download Link für den [Anaconda Installer](https://www.anaconda.com/download/success)\n",
    "* Installer ausführen"
   ]
  },
  {
   "cell_type": "code",
   "execution_count": null,
   "id": "2bd2068e-24bb-4d4c-ad68-c90651408382",
   "metadata": {},
   "outputs": [],
   "source": [
    "\n"
   ]
  }
 ],
 "metadata": {
  "kernelspec": {
   "display_name": "Python 3 (ipykernel)",
   "language": "python",
   "name": "python3"
  },
  "language_info": {
   "codemirror_mode": {
    "name": "ipython",
    "version": 3
   },
   "file_extension": ".py",
   "mimetype": "text/x-python",
   "name": "python",
   "nbconvert_exporter": "python",
   "pygments_lexer": "ipython3",
   "version": "3.11.5"
  }
 },
 "nbformat": 4,
 "nbformat_minor": 5
}
