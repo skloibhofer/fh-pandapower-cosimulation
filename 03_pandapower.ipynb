{
 "cells": [
  {
   "cell_type": "markdown",
   "id": "b2eeccdb-4c6a-42c6-9087-e0c180eefed6",
   "metadata": {},
   "source": [
    "# Netzsimulation mit Pandapower und Simbench"
   ]
  },
  {
   "cell_type": "code",
   "execution_count": null,
   "id": "c9d8c6ec-70a6-438f-a01b-92af71d83a85",
   "metadata": {},
   "outputs": [],
   "source": [
    "from pathlib import Path\n",
    "\n",
    "import matplotlib.pyplot as plt\n",
    "import numpy as np\n",
    "import pandapower as pp\n",
    "import pandas as pd\n",
    "import simbench as sb\n",
    "from pandapower.timeseries import OutputWriter, run_timeseries\n",
    "from pandapower.control import ConstControl\n",
    "\n",
    "from src.load_profiles import get_load_profile"
   ]
  },
  {
   "cell_type": "code",
   "execution_count": null,
   "id": "22d69ec4-f274-4923-995c-dc4e8c87e906",
   "metadata": {
    "tags": []
   },
   "outputs": [],
   "source": [
    "# Tipp um eigene Funktionen automatisch neu zu laden\n",
    "%load_ext autoreload\n",
    "%autoreload 2"
   ]
  },
  {
   "cell_type": "markdown",
   "id": "7f527d37-7aab-4839-8de8-35455fc4c6a3",
   "metadata": {},
   "source": [
    "## Pandapower Basics\n",
    "\n",
    "Pandapower ist eine Bibliothek zur Berechnung/Simulation von Stromnetzen.\n",
    "Es verwendet pandas und [PYPOWER](https://github.com/rwl/PYPOWER) um Netzwerkberechnungen zu ermöglichen.\n",
    "\n",
    "* Website: http://www.pandapower.org/\n",
    "* Dokumentation: https://pandapower.readthedocs.io/en/latest/about.html.\n",
    "* Tutorials: https://nbviewer.org/github/e2nIEE/pandapower/tree/develop/tutorials/.\n",
    "\n",
    "Konvention fuer Namen von Einheiten: \\<parameter\\>\\_\\<unit\\> oder \\<parameter\\>\\_\\<phase\\>\\_\\<unit\\>. Beispiel: vn_kv -> $v_n[kV]$. Naehere Infos in Function Docstring oder in der Dokumentation.\n",
    "\n",
    "Als erstes bauen wir ein minimales Netz aus einzelnen Komponenten auf."
   ]
  },
  {
   "cell_type": "code",
   "execution_count": null,
   "id": "0cf061cd-1f38-4b40-9d8c-10e7730f6b23",
   "metadata": {},
   "outputs": [],
   "source": [
    "# create empty net\n",
    "my_net = pp.create_empty_network()"
   ]
  },
  {
   "cell_type": "code",
   "execution_count": null,
   "id": "3a871b07-62fc-4516-b5a8-f1aecdb49144",
   "metadata": {},
   "outputs": [],
   "source": [
    "my_net"
   ]
  },
  {
   "cell_type": "code",
   "execution_count": null,
   "id": "caab0859-9f05-4803-84e2-5ac4aa36ef02",
   "metadata": {},
   "outputs": [],
   "source": [
    "# create buses\n",
    "bus1 = pp.create_bus(my_net, vn_kv=20.0, name=\"Bus 1\")\n",
    "bus2 = pp.create_bus(my_net, vn_kv=0.4, name=\"Bus 2\")\n",
    "bus3 = pp.create_bus(my_net, vn_kv=0.4, name=\"Bus 3\")"
   ]
  },
  {
   "cell_type": "code",
   "execution_count": null,
   "id": "ce6329ca-8c80-4ac9-a72d-fdd988757717",
   "metadata": {},
   "outputs": [],
   "source": [
    "my_net.bus"
   ]
  },
  {
   "cell_type": "code",
   "execution_count": null,
   "id": "20d2170d-06f0-4bf3-a684-86afb4669d09",
   "metadata": {},
   "outputs": [],
   "source": [
    "# The returned value is the index of the element in its table\n",
    "print(type(bus1), bus1)"
   ]
  },
  {
   "cell_type": "code",
   "execution_count": null,
   "id": "2d64c8cd-784a-49ce-b6e3-ccb2b8a35720",
   "metadata": {},
   "outputs": [],
   "source": [
    "# create bus elements\n",
    "pp.create_ext_grid(\n",
    "    my_net, bus=bus1, vm_pu=1.02, name=\"Grid Connection\"\n",
    ")  # erstellt externes netz\n",
    "pp.create_load(my_net, bus=bus3, p_mw=0.100, q_mvar=0.05, name=\"Load\")  # erstellt last"
   ]
  },
  {
   "cell_type": "code",
   "execution_count": null,
   "id": "07075a59-aaf8-43e1-b415-37d9939e8077",
   "metadata": {},
   "outputs": [],
   "source": [
    "# create branch elements\n",
    "trafo = pp.create_transformer(\n",
    "    my_net, hv_bus=bus1, lv_bus=bus2, std_type=\"0.4 MVA 20/0.4 kV\", name=\"Trafo\"\n",
    ")\n",
    "line = pp.create_line(\n",
    "    my_net,\n",
    "    from_bus=bus2,\n",
    "    to_bus=bus3,\n",
    "    length_km=0.1,\n",
    "    std_type=\"NAYY 4x50 SE\",\n",
    "    name=\"Line\",\n",
    ")"
   ]
  },
  {
   "cell_type": "code",
   "execution_count": null,
   "id": "7dfc7447-6235-4e6f-8b20-75256181cf63",
   "metadata": {},
   "outputs": [],
   "source": [
    "my_net"
   ]
  },
  {
   "cell_type": "code",
   "execution_count": null,
   "id": "7dcfc3f4-7d5d-43a5-991c-43778ac94aed",
   "metadata": {},
   "outputs": [],
   "source": [
    "my_net.ext_grid"
   ]
  },
  {
   "cell_type": "code",
   "execution_count": null,
   "id": "175a85c6-de2c-45a4-917c-c41e66dfa42e",
   "metadata": {},
   "outputs": [],
   "source": [
    "pp.plotting.simple_plot(my_net, plot_loads=True, plot_gens=True, plot_sgens=True)"
   ]
  },
  {
   "cell_type": "code",
   "execution_count": null,
   "id": "3f752475-235c-45da-a1bf-293024e95c72",
   "metadata": {},
   "outputs": [],
   "source": [
    "pp.runpp(my_net, numba=False)"
   ]
  },
  {
   "cell_type": "code",
   "execution_count": null,
   "id": "544813fb-777e-4c15-b7a4-5eaa7795a2c7",
   "metadata": {},
   "outputs": [],
   "source": [
    "my_net.res_bus"
   ]
  },
  {
   "cell_type": "code",
   "execution_count": null,
   "id": "d111c0ec-1a64-4d62-8fa0-d3e4ee0a66d5",
   "metadata": {
    "tags": []
   },
   "outputs": [],
   "source": [
    "[el for el in dir(my_net) if el.startswith('res')]"
   ]
  },
  {
   "cell_type": "code",
   "execution_count": null,
   "id": "6fe955fa-ff17-4510-a398-4197823c4056",
   "metadata": {},
   "outputs": [],
   "source": [
    "# Unit descriptions in https://pandapower.readthedocs.io/en/latest/elements/line.html#result-parameters\n",
    "my_net.res_line"
   ]
  },
  {
   "cell_type": "markdown",
   "id": "83375662-099d-49a5-bed7-71abe6d4caed",
   "metadata": {},
   "source": [
    "## Beispielnetze und Simulation "
   ]
  },
  {
   "cell_type": "markdown",
   "id": "88fc6b5c-4d08-46db-acc2-ca838edcaf78",
   "metadata": {},
   "source": [
    "### Simples Pandapower Beispielnetz"
   ]
  },
  {
   "cell_type": "code",
   "execution_count": null,
   "id": "8b8fa240-4112-4fd1-8f3b-ccb2bb432a1e",
   "metadata": {},
   "outputs": [],
   "source": [
    "# https://pandapower.readthedocs.io/en/latest/networks/test.html#pandapower.networks.simple_four_bus_system\n",
    "small_net = pp.networks.simple_four_bus_system()\n",
    "pp.plotting.simple_plot(small_net, plot_loads=True, plot_gens=True, plot_sgens=True)"
   ]
  },
  {
   "cell_type": "code",
   "execution_count": null,
   "id": "887bea17-9ecf-4ba7-bafe-8899d3a50a06",
   "metadata": {},
   "outputs": [],
   "source": [
    "small_net"
   ]
  },
  {
   "cell_type": "code",
   "execution_count": null,
   "id": "960af597-d343-4fe2-b237-928c649ce021",
   "metadata": {},
   "outputs": [],
   "source": [
    "small_net.load"
   ]
  },
  {
   "cell_type": "code",
   "execution_count": null,
   "id": "e40e94ea-66ab-4cff-9d4c-6e9afb9f0939",
   "metadata": {},
   "outputs": [],
   "source": [
    "small_net.sgen"
   ]
  },
  {
   "cell_type": "markdown",
   "id": "13bdd65f-d1e6-44af-9c9b-cbd0df73a52b",
   "metadata": {},
   "source": [
    "### Zeitreihenberechnung mit Hilfe von pandapower\n",
    "\n",
    "Basierend auf dem [Simple Time Series Example](https://github.com/e2nIEE/pandapower/blob/develop/tutorials/time_series.ipynb) Tutorial von pandapower, versuchen wir dieses simple Netz mit unseren vorher definierten Zeitreihen zu koppeln."
   ]
  },
  {
   "cell_type": "code",
   "execution_count": null,
   "id": "831128fa-08a0-4d76-b578-b863c7c47268",
   "metadata": {},
   "outputs": [],
   "source": [
    "# Step 1 net, already done"
   ]
  },
  {
   "cell_type": "code",
   "execution_count": null,
   "id": "7a6a5e5f-ed19-4085-8fa0-95892ee05f6a",
   "metadata": {
    "tags": []
   },
   "outputs": [],
   "source": [
    "# Step 2, import datasources\n",
    "pv = pd.read_csv('outputs/pv_example.csv', index_col=0)"
   ]
  },
  {
   "cell_type": "code",
   "execution_count": null,
   "id": "28719254-f956-4965-86e0-5c61d31dc129",
   "metadata": {},
   "outputs": [],
   "source": [
    "lastprofile_file = (\n",
    "    Path(\"data\") / \"representative_profiles_vdew.xls\"\n",
    ")\n",
    "assert (\n",
    "    lastprofile_file.is_file()\n",
    "), f\"Did not find file with representative load profiles at {lastprofile_file}\""
   ]
  },
  {
   "cell_type": "code",
   "execution_count": null,
   "id": "e8842fad-7c59-46e5-b3ed-9daa328674a4",
   "metadata": {
    "tags": []
   },
   "outputs": [],
   "source": [
    "pv.index = pd.to_datetime(pv.index)\n",
    "pv = pv / 10**3"
   ]
  },
  {
   "cell_type": "code",
   "execution_count": null,
   "id": "fcf5c3ca-2c21-4a16-a03d-1dc326a7d2e1",
   "metadata": {},
   "outputs": [],
   "source": [
    "# H0 at the moment has non-matching timezone and exploding values in the end of year!\n",
    "h0profile = get_load_profile(\n",
    "    lastprofile_file,\n",
    "    from_=pv.index[0],\n",
    "    to=pv.index[-1],\n",
    "    type=\"H0\",\n",
    ")"
   ]
  },
  {
   "cell_type": "code",
   "execution_count": null,
   "id": "bbd2c514-d326-4d16-a0d5-eaf1c81c1a11",
   "metadata": {
    "tags": []
   },
   "outputs": [],
   "source": [
    "h0profile = h0profile.resample('H').mean() / 10**6 * 5"
   ]
  },
  {
   "cell_type": "code",
   "execution_count": null,
   "id": "d60a580f-ee0e-402d-b0c2-a581ec676d26",
   "metadata": {
    "tags": []
   },
   "outputs": [],
   "source": [
    "df = pd.DataFrame({'PV': pv.squeeze(), 'H0': h0profile.squeeze()})\n",
    "df.head()"
   ]
  },
  {
   "cell_type": "code",
   "execution_count": null,
   "id": "e16dac0c-cb4c-461a-9d0b-cd062e475cd8",
   "metadata": {
    "tags": []
   },
   "outputs": [],
   "source": [
    "df.plot()"
   ]
  },
  {
   "cell_type": "code",
   "execution_count": null,
   "id": "a5fc2d97-6791-4a33-90c7-bb7260482348",
   "metadata": {
    "tags": []
   },
   "outputs": [],
   "source": [
    "small_net.sgen"
   ]
  },
  {
   "cell_type": "code",
   "execution_count": null,
   "id": "451897c9-1094-4152-a73f-575173480849",
   "metadata": {
    "tags": []
   },
   "outputs": [],
   "source": [
    "# Step 3: Create Controllers, attach to networ\n",
    "ConstControl(small_net, element='load', variable='p_mw', element_index=[0, 1],\n",
    "                 data_source=df, profile_name=[\"H0\", \"H0\"])"
   ]
  },
  {
   "cell_type": "code",
   "execution_count": null,
   "id": "473c1575-03aa-4b06-bb25-9f4d2de544b9",
   "metadata": {
    "tags": []
   },
   "outputs": [],
   "source": [
    "ConstControl(small_net, element='sgen', variable='p_mw', element_index=[0, 1],\n",
    "                 data_source=df, profile_name=[\"PV\", \"PV\"])"
   ]
  },
  {
   "cell_type": "code",
   "execution_count": null,
   "id": "f28903ac-110a-45aa-8b7d-36b532c4ff26",
   "metadata": {
    "tags": []
   },
   "outputs": [],
   "source": [
    "# Step 4: Create Output Writer, copy from nb\n",
    "output_dir = Path('output') / 'small_net'\n",
    "if output_dir.exists == False:\n",
    "    output_dir.mkdir()\n",
    "\n",
    "ow = OutputWriter(small_net, df.index, output_path=output_dir, output_file_type=\".json\", log_variables=list())\n",
    "# these variables are saved to the harddisk after / during the time series loop\n",
    "ow.log_variable('res_load', 'p_mw')\n",
    "ow.log_variable('res_bus', 'vm_pu')\n",
    "ow.log_variable('res_line', 'loading_percent')\n",
    "ow.log_variable('res_line', 'i_ka')"
   ]
  },
  {
   "cell_type": "code",
   "execution_count": null,
   "id": "b90285f4-1e79-46b7-a0d9-3a9776ac402d",
   "metadata": {
    "tags": []
   },
   "outputs": [],
   "source": [
    "df.index.to_list()[0]"
   ]
  },
  {
   "cell_type": "code",
   "execution_count": null,
   "id": "9ad11d18-3813-4553-aef7-e13bc99a8799",
   "metadata": {
    "tags": []
   },
   "outputs": [],
   "source": [
    "# Step 5: run timeseries\n",
    "run_timeseries(small_net, df.index.to_list(), numba=True)"
   ]
  },
  {
   "cell_type": "markdown",
   "id": "b33c6c76-9023-46c8-a644-6ba674da1eb5",
   "metadata": {},
   "source": [
    "### Beispielnetz aus Simbench inklusive Beispielzeitreihen\n",
    "\n",
    "Simbench bietet viele Beispielnetze für unterschiedlichste Szenarien an: https://simbench.de/de/datensaetze/.\n",
    "(Link funktionierte bei mir nicht mit Firefox).\n",
    "\n",
    "Dieses Beispiel Notebook gibt einen guten Überblick über die möglichen Nutzungen der Netzwerke gemeinsam mit pandapower:\n",
    "https://github.com/e2nIEE/simbench/blob/master/tutorials/simbench_grids_basics_and_usage.ipynb."
   ]
  },
  {
   "cell_type": "code",
   "execution_count": null,
   "id": "d291778f-7a34-4995-8312-6032a64bbde1",
   "metadata": {},
   "outputs": [],
   "source": [
    "# simbench - simbench.de - Zeitreihen von Verbrauchs/Einspeisedaten + Netze.\n",
    "sb_code_lv = \"1-LV-semiurb4--0-sw\"\n",
    "\n",
    "# creating a standard lv test network\n",
    "net = sb.get_simbench_net(sb_code_lv)"
   ]
  },
  {
   "cell_type": "code",
   "execution_count": null,
   "id": "bab94b9a-3e96-4f3a-aa66-2b882c36c235",
   "metadata": {},
   "outputs": [],
   "source": [
    "pp.plotting.simple_plot(net, plot_loads=True, plot_gens=True, plot_sgens=True)"
   ]
  },
  {
   "cell_type": "code",
   "execution_count": null,
   "id": "02fa8422-550f-4e35-8be5-71448d48bf40",
   "metadata": {},
   "outputs": [],
   "source": [
    "for key, df in net.profiles.items():\n",
    "    print(f\"{key}: {list(df.columns)}\\n\")"
   ]
  },
  {
   "cell_type": "code",
   "execution_count": null,
   "id": "76d3b507-69df-4510-a7f3-5d91193e49d3",
   "metadata": {},
   "outputs": [],
   "source": [
    "# Get PV data from simbench\n",
    "pv = net.profiles[\"renewables\"].copy()\n",
    "pv.head()"
   ]
  },
  {
   "cell_type": "code",
   "execution_count": null,
   "id": "10447457-157a-484f-bd4f-1dc7a1192923",
   "metadata": {},
   "outputs": [],
   "source": [
    "# Make time the index, dayfirst for day.month.year and sort_index to allow slicing\n",
    "pv.index = pd.to_datetime(pv[\"time\"], dayfirst=True)\n",
    "pv = pv[\"PV5\"].sort_index()\n",
    "pv.tail()"
   ]
  },
  {
   "cell_type": "code",
   "execution_count": null,
   "id": "95caeae5-7964-4972-9dd2-145d7815fbf4",
   "metadata": {},
   "outputs": [],
   "source": [
    "fig, axs = plt.subplots(1, 2, figsize=(10, 3), sharey=True)\n",
    "fig.suptitle(\"Simbench PV profile\")\n",
    "pv[\"2016-01-01\":\"2016-01-10\"].plot(ax=axs[0])\n",
    "pv[\"2016-06-01\":\"2016-06-10\"].plot(ax=axs[1])"
   ]
  },
  {
   "cell_type": "code",
   "execution_count": null,
   "id": "043a410c-a3b8-49b9-b91d-d6db9f0a9a3b",
   "metadata": {},
   "outputs": [],
   "source": [
    "h0A = net.profiles[\"load\"].set_index(\"time\")[\"H0-A_pload\"].copy()\n",
    "h0A.index = pd.to_datetime(h0A.index, dayfirst=True)\n",
    "h0A = h0A.sort_index()"
   ]
  },
  {
   "cell_type": "code",
   "execution_count": null,
   "id": "bc7f4e94-187d-44d8-9354-b1e1fd30c535",
   "metadata": {},
   "outputs": [],
   "source": [
    "fig, axs = plt.subplots(1, 2, figsize=(10, 3), sharey=True)\n",
    "fig.suptitle(\"Simbench H0 profile\")\n",
    "h0A[\"2016-01-01\":\"2016-01-10\"].plot(ax=axs[0])\n",
    "h0A[\"2016-06-01\":\"2016-06-10\"].plot(ax=axs[1])"
   ]
  },
  {
   "cell_type": "markdown",
   "id": "0e52f47a-1d81-4220-9d9a-e040c9be1760",
   "metadata": {},
   "source": [
    "### Run timeseries analysis with predefined profiles\n",
    "\n",
    "After [tutorial](https://github.com/e2nIEE/simbench/blob/master/tutorials/simbench_grids_basics_and_usage.ipynb)."
   ]
  },
  {
   "cell_type": "code",
   "execution_count": null,
   "id": "be7c6f61-973f-4f51-ad85-e465e3a7ba87",
   "metadata": {},
   "outputs": [],
   "source": [
    "# Check that all profiles exist\n",
    "assert not sb.profiles_are_missing(net)"
   ]
  },
  {
   "cell_type": "code",
   "execution_count": null,
   "id": "1856e685-cefd-431e-a91d-8c1d7ece0ff2",
   "metadata": {},
   "outputs": [],
   "source": [
    "profiles = sb.get_absolute_values(net, profiles_instead_of_study_cases=True)"
   ]
  },
  {
   "cell_type": "code",
   "execution_count": null,
   "id": "576094fa-ae71-4c89-9463-73bff4085bcb",
   "metadata": {},
   "outputs": [],
   "source": [
    "# Apply ConstControllers\n",
    "sb.apply_const_controllers(net, profiles)\n",
    "# Define time steps for 1 day\n",
    "time_steps = range(0, 96)"
   ]
  },
  {
   "cell_type": "code",
   "execution_count": null,
   "id": "3619aa93-f9da-4b12-a803-b7422e71a6de",
   "metadata": {},
   "outputs": [],
   "source": [
    "# Create Output writer\n",
    "output_dir = Path(\"./outputs\")\n",
    "output_dir.mkdir(exist_ok=True)\n",
    "output_dir = output_dir / \"simbench_ts_run\"\n",
    "# Using json here, as csv has non standard formatting, could also use .xls\n",
    "ow = OutputWriter(net, time_steps, output_path=output_dir, output_file_type=\".json\")\n",
    "ow.log_variable(\"res_load\", \"p_mw\", eval_function=np.sum, eval_name=\"Load Sum\")\n",
    "ow.log_variable(\"res_bus\", \"vm_pu\", eval_function=np.min, eval_name=\"min_vm_pu\")\n",
    "ow.log_variable(\"res_bus\", \"vm_pu\", eval_function=np.max, eval_name=\"max_vm_pu\")"
   ]
  },
  {
   "cell_type": "code",
   "execution_count": null,
   "id": "492e7f96-b1bb-4ee4-9616-6fc67d5b66c1",
   "metadata": {},
   "outputs": [],
   "source": [
    "run_timeseries(net, time_steps, numba=False)"
   ]
  },
  {
   "cell_type": "code",
   "execution_count": null,
   "id": "32e227c7-1bda-4ccc-8887-edbdc7bf0307",
   "metadata": {},
   "outputs": [],
   "source": []
  },
  {
   "cell_type": "code",
   "execution_count": null,
   "id": "15f0c246-5d7c-40e5-b01f-6d42ff338961",
   "metadata": {},
   "outputs": [],
   "source": [
    "# Read Results and create DataFrame\n",
    "vm_pu_file = output_dir / \"res_bus\" / \"vm_pu.json\"\n",
    "vm_pu = pd.read_json(vm_pu_file)\n",
    "ll_file = output_dir / \"res_line\" / \"loading_percent.json\"\n",
    "line_loading = pd.read_json(ll_file)\n",
    "load_p_file = output_dir / \"res_load\" / \"p_mw.json\"\n",
    "load_p = pd.read_json(load_p_file)"
   ]
  },
  {
   "cell_type": "code",
   "execution_count": null,
   "id": "94a096c6-9450-4e03-a602-75ff3770a636",
   "metadata": {},
   "outputs": [],
   "source": [
    "# Plot line loading\n",
    "vm_pu[['min_vm_pu', 'max_vm_pu']].plot()\n",
    "plt.xlabel(\"time step\")\n",
    "plt.ylabel(\"voltage mag. [p.u.]\")\n",
    "plt.title(\"Voltage Magnitude\")\n",
    "plt.grid()"
   ]
  },
  {
   "cell_type": "code",
   "execution_count": null,
   "id": "c3ba5928-bfa0-456a-9761-3b6a99dde915",
   "metadata": {},
   "outputs": [],
   "source": [
    "# load results\n",
    "load_p.sort_index().plot()\n",
    "plt.xlabel(\"time step\")\n",
    "plt.ylabel(\"P [MW]\")\n",
    "plt.title(\"Sum of Loads\")\n",
    "plt.grid()\n",
    "plt.show()"
   ]
  },
  {
   "cell_type": "code",
   "execution_count": null,
   "id": "49050179-45a2-497d-b8fe-93524105d8bf",
   "metadata": {},
   "outputs": [],
   "source": []
  }
 ],
 "metadata": {
  "kernelspec": {
   "display_name": "Python 3 (ipykernel)",
   "language": "python",
   "name": "python3"
  },
  "language_info": {
   "codemirror_mode": {
    "name": "ipython",
    "version": 3
   },
   "file_extension": ".py",
   "mimetype": "text/x-python",
   "name": "python",
   "nbconvert_exporter": "python",
   "pygments_lexer": "ipython3",
   "version": "3.11.6"
  }
 },
 "nbformat": 4,
 "nbformat_minor": 5
}
