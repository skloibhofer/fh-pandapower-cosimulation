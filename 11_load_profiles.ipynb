{
 "cells": [
  {
   "cell_type": "markdown",
   "id": "5b30834b-8068-477d-8a45-8c31d4321981",
   "metadata": {},
   "source": [
    "# Load Profiles\n",
    "\n",
    "Get standard load profiles from https://www.bdew.de/energie/standardlastprofile-strom/.\n",
    "Download .zip folder, we use only the Repräsentative Profile VDEW here, renamed to\n",
    "representative_profiles_vdew.xls."
   ]
  },
  {
   "cell_type": "code",
   "execution_count": null,
   "id": "9e708d56-bbe9-428f-9c53-c021aea4921a",
   "metadata": {},
   "outputs": [],
   "source": [
    "import datetime\n",
    "from pathlib import Path\n",
    "\n",
    "import holidays\n",
    "import matplotlib.pyplot as plt\n",
    "import numpy as np\n",
    "import pandas as pd"
   ]
  },
  {
   "cell_type": "code",
   "execution_count": null,
   "id": "cb5f0f0f-fbc0-44a2-a0b6-97dc2303075c",
   "metadata": {},
   "outputs": [],
   "source": [
    "lastprofile_file = Path(\".\") / \"data\" / \"representative_profiles_vdew.xls\"\n",
    "assert (\n",
    "    lastprofile_file.is_file()\n",
    "), f\"Did not find file with representative load profiles at {lastprofile_file}\""
   ]
  },
  {
   "cell_type": "code",
   "execution_count": null,
   "id": "64e0265a-76b8-4b9d-b144-2a97e5976790",
   "metadata": {
    "tags": []
   },
   "outputs": [],
   "source": [
    "pd.read_excel(lastprofile_file, sheet_name='H0', header=[1, 2], index_col=0, nrows=24 * 4)"
   ]
  },
  {
   "cell_type": "code",
   "execution_count": null,
   "id": "a635c893-bed9-45f2-bb6b-80c534b89f08",
   "metadata": {},
   "outputs": [],
   "source": [
    "def get_profile_from_file(fp: Path, type: str = \"H0\") -> pd.DataFrame:\n",
    "    \"\"\"From the VDEW profiles xls file, get one sheet.\n",
    "\n",
    "    Args:\n",
    "        fp (Path): Path to .xls file.\n",
    "        type (str): Profile type corresponding to the sheet name in the file.\n",
    "            Defaults to H0.\n",
    "\n",
    "    Returns:\n",
    "        pd.DataFrame: DataFrame with column Multiindex Season\n",
    "            (Winter, Sommer, Übergangszeit) and Daytype (Samstag, Sonntag, Werktag),\n",
    "            and Index Time from 0:15 to 24:00 in 15 minute intervals.\n",
    "    \"\"\"\n",
    "    df = pd.read_excel(fp, sheet_name=type, header=[1, 2], index_col=0, nrows=24 * 4)\n",
    "\n",
    "    return df"
   ]
  },
  {
   "cell_type": "code",
   "execution_count": null,
   "id": "ec4bfbaa-28da-4086-8808-9999593731c9",
   "metadata": {},
   "outputs": [],
   "source": [
    "i = pd.Index([\"00:15\", \"00:30\"])\n",
    "i = i.map(lambda x: datetime.time.fromisoformat(x))"
   ]
  },
  {
   "cell_type": "code",
   "execution_count": null,
   "id": "1c01c872-c334-42e0-9675-a6c21f942df7",
   "metadata": {},
   "outputs": [],
   "source": [
    "h0_profiles = get_profile_from_file(lastprofile_file, \"H0\")"
   ]
  },
  {
   "cell_type": "code",
   "execution_count": null,
   "id": "1d5bbd91-68d5-4333-96cb-bcb5c4ffc893",
   "metadata": {},
   "outputs": [],
   "source": [
    "h0_profiles.head()"
   ]
  },
  {
   "cell_type": "code",
   "execution_count": null,
   "id": "c7bf82b3-48e6-478b-8a3c-01072fb4bed2",
   "metadata": {},
   "outputs": [],
   "source": [
    "# Constants\n",
    "AT_HOLIDAYS = holidays.AUT()\n",
    "\n",
    "# Dynamization function coefficients\n",
    "A4 = -3.92e-10\n",
    "A3 = 0.00000032\n",
    "A2 = -0.0000702\n",
    "A1 = 0.0021\n",
    "A0 = 1.24"
   ]
  },
  {
   "cell_type": "code",
   "execution_count": null,
   "id": "47beeccd-c5fc-4149-a748-fa4e7e4c43d7",
   "metadata": {},
   "outputs": [],
   "source": [
    "def dynamize_day(ser: pd.Series, dayofyear: int) -> pd.Series:\n",
    "    \"\"\"Dynamize profile 15 minute series by dayofyear.\"\"\"\n",
    "    dynamization_value = (\n",
    "        np.power(dayofyear, 4) * A4\n",
    "        + np.power(dayofyear, 3) * A3\n",
    "        + np.power(dayofyear, 2) * A2\n",
    "        + dayofyear * A1\n",
    "        + A0\n",
    "    )\n",
    "    return ser * dynamization_value"
   ]
  },
  {
   "cell_type": "code",
   "execution_count": null,
   "id": "c66e65c3-e33e-4105-9b56-9057ece90c57",
   "metadata": {},
   "outputs": [],
   "source": [
    "def dynamization_value(dayofyear):\n",
    "    return (\n",
    "        np.power(dayofyear, 4) * A4\n",
    "        + np.power(dayofyear, 3) * A3\n",
    "        + np.power(dayofyear, 2) * A2\n",
    "        + dayofyear * A1\n",
    "        + A0\n",
    "    )"
   ]
  },
  {
   "cell_type": "code",
   "execution_count": null,
   "id": "9f86c03f-d8f5-448e-83bc-886df3205483",
   "metadata": {},
   "outputs": [],
   "source": [
    "x = range(0, 365)\n",
    "y = [dynamization_value(x_) for x_ in x]\n",
    "\n",
    "plt.plot(x, y)"
   ]
  },
  {
   "cell_type": "code",
   "execution_count": null,
   "id": "e5029e50-c2d6-422d-9c7b-e294bf02b68f",
   "metadata": {},
   "outputs": [],
   "source": [
    "def load_profile_for_day(\n",
    "    day: datetime.date, profile_df: pd.DataFrame, dynamize: bool = False\n",
    ") -> pd.Series:\n",
    "    \"\"\"Get the 15 minute load profile for a single day.\n",
    "\n",
    "    Args:\n",
    "        day (datetime.date): Date for which to get the load profile.\n",
    "        profile_df (pd.DataFrame): In the format as given by get_profile_from_file.\n",
    "        dynamize (bool): Should dynamization by the 4th-grade polynomial dynamization\n",
    "            function for day of year be applied. This should be only done for H0. Defaults to False.\n",
    "\n",
    "    Returns:\n",
    "        pd.Series: Series with Watt values every 15 minutes, and a pd.DatetimeIndex.\n",
    "    \"\"\"\n",
    "    if (day <= datetime.date(day.year, 3, 20)) or (\n",
    "        day >= datetime.date(day.year, 11, 1)\n",
    "    ):\n",
    "        season = \"Winter\"\n",
    "    elif (day >= datetime.date(day.year, 5, 15)) and (\n",
    "        day <= datetime.date(day.year, 9, 14)\n",
    "    ):\n",
    "        season = \"Sommer\"\n",
    "    else:\n",
    "        season = \"Übergangszeit\"\n",
    "\n",
    "    if (day in AT_HOLIDAYS) or (day.isoweekday == 7):\n",
    "        weekday = \"Sonntag\"\n",
    "    elif (day.isoweekday == 6) or (\n",
    "        day in [datetime.date(day.year, 12, 24), datetime.date(day.year, 12, 31)]\n",
    "    ):\n",
    "        weekday = \"Samstag\"\n",
    "    else:\n",
    "        weekday = \"Werktag\"\n",
    "\n",
    "    df = profile_df[season][weekday]\n",
    "\n",
    "    def combine_day_time(time: datetime.time) -> datetime.datetime:\n",
    "        \"\"\"Combine day and time and account for 00:00 being on the next day\"\"\"\n",
    "        dt = datetime.datetime.combine(day, time)\n",
    "        if time == datetime.time(0, 0):\n",
    "            dt = dt + datetime.timedelta(days=1)\n",
    "        return dt\n",
    "\n",
    "    df.index = df.index.map(combine_day_time)\n",
    "\n",
    "    if dynamize:\n",
    "        df = dynamize_day(df, df.index.dayofyear[0])\n",
    "\n",
    "    return df"
   ]
  },
  {
   "cell_type": "code",
   "execution_count": null,
   "id": "c62b5752-f2ce-4039-971b-f3842f739736",
   "metadata": {},
   "outputs": [],
   "source": [
    "# datetime.datetime.combine(datetime.date(2020, 1, 2), datetime.time(24, 0))"
   ]
  },
  {
   "cell_type": "code",
   "execution_count": null,
   "id": "9a56bece-0791-4ac4-a752-3e981c1a87bb",
   "metadata": {},
   "outputs": [],
   "source": [
    "datetime.date(2020, 1, 4).day"
   ]
  },
  {
   "cell_type": "code",
   "execution_count": null,
   "id": "70e83b4b-e830-44d8-bcc5-3ea34f898b6a",
   "metadata": {},
   "outputs": [],
   "source": [
    "df = load_profile_for_day(datetime.date(2020, 5, 30), h0_profiles, True)\n",
    "\n",
    "dayofyear = df.index.dayofyear[0]"
   ]
  },
  {
   "cell_type": "code",
   "execution_count": null,
   "id": "d1244fa4-f272-40e5-9b12-06a9fa82622e",
   "metadata": {},
   "outputs": [],
   "source": [
    "def get_load_profile(\n",
    "    fp: Path, from_: datetime.date | str, to: datetime.date | str, type: str = \"H0\"\n",
    ") -> pd.Series:\n",
    "    \"\"\"Get a 15 minutes load profiles for given time span.\n",
    "\n",
    "    Args:\n",
    "        fp (Path): Path to .xls file.\n",
    "        from_ (datetime.date | str): Start date.\n",
    "        to (datetime.date | str): End date.\n",
    "        type (str): Profile type corresponding to the sheet name in the file.\n",
    "            Defaults to H0.\n",
    "\n",
    "    Returns:\n",
    "        pd.Series: Series with Watt values every 15 minutes between from_ date\n",
    "            and to date, with a pd.DatetimeIndex.\n",
    "    \"\"\"\n",
    "    profile_df = get_profile_from_file(fp, type)\n",
    "    dynamize = type == \"H0\"\n",
    "\n",
    "    daily_profiles = []\n",
    "    for day in pd.date_range(\"2015-01-01\", datetime.date(2015, 12, 31), freq=\"D\"):\n",
    "        daily_profiles.append(load_profile_for_day(day.date(), profile_df, dynamize))\n",
    "\n",
    "    return pd.concat(daily_profiles, axis=\"index\")"
   ]
  },
  {
   "cell_type": "code",
   "execution_count": null,
   "id": "76cf431d-b224-48c7-b4c9-052f72138eee",
   "metadata": {},
   "outputs": [],
   "source": [
    "h0profile = get_load_profile(\n",
    "    lastprofile_file,\n",
    "    from_=datetime.date(2015, 1, 1),\n",
    "    to=datetime.date(2015, 12, 31),\n",
    "    type=\"H0\",\n",
    ")"
   ]
  },
  {
   "cell_type": "code",
   "execution_count": null,
   "id": "ee11e5f9-fac9-465c-bbec-8d13c6f41d45",
   "metadata": {},
   "outputs": [],
   "source": [
    "fig, axs = plt.subplots(1, 2, figsize=(10, 3), sharey=True)\n",
    "fig.suptitle(\"H0 standard load profile\")\n",
    "h0profile[\"2015-10-01\":\"2015-10-10\"].plot(ax=axs[0])\n",
    "h0profile[\"2015-12-01\":\"2015-12-10\"].plot(ax=axs[1])"
   ]
  },
  {
   "cell_type": "code",
   "execution_count": null,
   "id": "f4c3954b-10d7-47d8-a72b-0c783a2437b6",
   "metadata": {},
   "outputs": [],
   "source": [
    "# Doesn't look too good...\n",
    "h0profile.plot()"
   ]
  },
  {
   "cell_type": "code",
   "execution_count": null,
   "id": "4a2f5ba9-9945-4e25-ae7c-7ffea2f4b13d",
   "metadata": {},
   "outputs": [],
   "source": [
    "g0profile = get_load_profile(\n",
    "    lastprofile_file,\n",
    "    from_=datetime.date(2015, 1, 1),\n",
    "    to=datetime.date(2015, 12, 31),\n",
    "    type=\"G0\",\n",
    ")"
   ]
  },
  {
   "cell_type": "code",
   "execution_count": null,
   "id": "b31df09c-2137-43c5-8fd1-7818f69440e8",
   "metadata": {},
   "outputs": [],
   "source": [
    "fig, axs = plt.subplots(1, 2, figsize=(10, 3), sharey=True)\n",
    "fig.suptitle(\"G0 standard load profile\")\n",
    "g0profile[\"2015-01-01\":\"2015-01-10\"].plot(ax=axs[0])\n",
    "g0profile[\"2015-06-01\":\"2015-06-10\"].plot(ax=axs[1])"
   ]
  },
  {
   "cell_type": "code",
   "execution_count": null,
   "id": "db63f1cb-a5f3-439b-b695-4431467ad35d",
   "metadata": {},
   "outputs": [],
   "source": [
    "g0profile.plot()"
   ]
  },
  {
   "cell_type": "code",
   "execution_count": null,
   "id": "dd936296-a1e7-4e6b-841d-82649350eebd",
   "metadata": {},
   "outputs": [],
   "source": [
    "g0profile.to_csv(\"outputs/g0_2015.csv\")"
   ]
  }
 ],
 "metadata": {
  "kernelspec": {
   "display_name": "Python 3 (ipykernel)",
   "language": "python",
   "name": "python3"
  },
  "language_info": {
   "codemirror_mode": {
    "name": "ipython",
    "version": 3
   },
   "file_extension": ".py",
   "mimetype": "text/x-python",
   "name": "python",
   "nbconvert_exporter": "python",
   "pygments_lexer": "ipython3",
   "version": "3.11.6"
  }
 },
 "nbformat": 4,
 "nbformat_minor": 5
}
