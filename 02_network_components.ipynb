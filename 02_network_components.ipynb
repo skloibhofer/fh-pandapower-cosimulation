{
 "cells": [
  {
   "cell_type": "code",
   "execution_count": 1,
   "id": "819438de-1b89-45e2-99c2-be8cfabb5dc1",
   "metadata": {},
   "outputs": [],
   "source": [
    "from src import battery, load_profiles"
   ]
  },
  {
   "cell_type": "code",
   "execution_count": 2,
   "id": "03886c9d-03e4-42e3-a558-a71f01cd8f6e",
   "metadata": {},
   "outputs": [],
   "source": [
    "# automatically reload changes in imports\n",
    "%load_ext autoreload\n",
    "%autoreload 2"
   ]
  },
  {
   "cell_type": "code",
   "execution_count": 3,
   "id": "5d1aef74-c2fb-4e1a-9916-423e4513e25f",
   "metadata": {},
   "outputs": [],
   "source": [
    "local_battery = battery.Battery(\n",
    "    # charge value reduced, as we are looking at 15 minute intervals\n",
    "    charge_kWh=50,\n",
    "    discharge_kWh=50,\n",
    ")"
   ]
  },
  {
   "cell_type": "code",
   "execution_count": 4,
   "id": "ef60345e-625a-45f2-a932-66f01ff81335",
   "metadata": {},
   "outputs": [
    {
     "data": {
      "text/plain": [
       "0.0"
      ]
     },
     "execution_count": 4,
     "metadata": {},
     "output_type": "execute_result"
    }
   ],
   "source": [
    "local_battery.SoC"
   ]
  },
  {
   "cell_type": "code",
   "execution_count": 5,
   "id": "0502d4df-f606-4815-a53e-6cf4e16e0b13",
   "metadata": {},
   "outputs": [
    {
     "data": {
      "text/plain": [
       "['SoC',\n",
       " '__class__',\n",
       " '__delattr__',\n",
       " '__dict__',\n",
       " '__dir__',\n",
       " '__doc__',\n",
       " '__eq__',\n",
       " '__format__',\n",
       " '__ge__',\n",
       " '__getattribute__',\n",
       " '__getstate__',\n",
       " '__gt__',\n",
       " '__hash__',\n",
       " '__init__',\n",
       " '__init_subclass__',\n",
       " '__le__',\n",
       " '__lt__',\n",
       " '__module__',\n",
       " '__ne__',\n",
       " '__new__',\n",
       " '__reduce__',\n",
       " '__reduce_ex__',\n",
       " '__repr__',\n",
       " '__setattr__',\n",
       " '__sizeof__',\n",
       " '__str__',\n",
       " '__subclasshook__',\n",
       " '__weakref__',\n",
       " 'capacity_kWh',\n",
       " 'charge',\n",
       " 'charge_kWh',\n",
       " 'current_kWh',\n",
       " 'discharge',\n",
       " 'discharge_kWh',\n",
       " 'max_charge',\n",
       " 'max_discharge']"
      ]
     },
     "execution_count": 5,
     "metadata": {},
     "output_type": "execute_result"
    }
   ],
   "source": [
    "dir(local_battery)"
   ]
  },
  {
   "cell_type": "code",
   "execution_count": null,
   "id": "af05e172-2c57-4bfc-8105-48fb49c061f3",
   "metadata": {},
   "outputs": [],
   "source": [
    "# Make small example of load management with battery"
   ]
  }
 ],
 "metadata": {
  "kernelspec": {
   "display_name": "Python 3 (ipykernel)",
   "language": "python",
   "name": "python3"
  },
  "language_info": {
   "codemirror_mode": {
    "name": "ipython",
    "version": 3
   },
   "file_extension": ".py",
   "mimetype": "text/x-python",
   "name": "python",
   "nbconvert_exporter": "python",
   "pygments_lexer": "ipython3",
   "version": "3.11.6"
  }
 },
 "nbformat": 4,
 "nbformat_minor": 5
}
