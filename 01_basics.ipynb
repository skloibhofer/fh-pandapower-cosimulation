{
 "cells": [
  {
   "cell_type": "markdown",
   "id": "f72acc85-2cb0-43df-a0f6-9e8023668a77",
   "metadata": {},
   "source": [
    "# Software Development und Python Basics\n",
    "\n",
    "In diesem Notebook sammle ich ein paar Basics zum Entwickeln eines Projektes in Python.\n",
    "Da ihr schon Kurse mit Python hattet, sollte das meiste nicht neu sein, eher sollen wichtige Parts wiederholt werden.\n",
    "Wenn für euch noch wichtige Themen fehlen, kann ich diese hier noch hinzufügen. "
   ]
  },
  {
   "cell_type": "code",
   "execution_count": 24,
   "id": "9f730814-69b9-4f35-b683-965fed2dc237",
   "metadata": {},
   "outputs": [],
   "source": [
    "import datetime\n",
    "import random\n",
    "from pathlib import Path\n",
    "\n",
    "import pandas as pd"
   ]
  },
  {
   "cell_type": "markdown",
   "id": "eeca277c-46b4-4e48-a143-9655f1715c1e",
   "metadata": {},
   "source": [
    "## Organisierung eines Python Projekts\n",
    "\n",
    "Eine kurze Übersicht, wie man seinen Code organisieren kann, von ersten Schritten und einfachen Programmen zu Komponenten die gut wiederverwendet werden können."
   ]
  },
  {
   "cell_type": "markdown",
   "id": "529c8af1-cdc8-4c90-8835-de539b34959c",
   "metadata": {},
   "source": [
    "### Notebook\n",
    "\n",
    "Als erste Methode, um schnell Sachen auszuprobieren und Ergebnisse sofort anzuzeigen, eignen sich Notebooks sehr gut.\n",
    "Wenn immer wieder aufgeräumt wird und auch die anderen Features wie Markdown Überschriften und Text verwendet werden,\n",
    "eignen sich diese auch sehr gut zum Anschaulich machen der einzelnen Schritte und um neues zu testen.\n",
    "Da man aber oft an unterschiedlichen Stellen weiterarbeitet oder etwas neues probiert, können diese auch recht\n",
    "schnell sehr unübersichtlich werden."
   ]
  },
  {
   "cell_type": "code",
   "execution_count": 25,
   "id": "3b09fb47-e0c8-4295-93fa-a48bcabe1a25",
   "metadata": {},
   "outputs": [
    {
     "name": "stdout",
     "output_type": "stream",
     "text": [
      "The autoreload extension is already loaded. To reload it, use:\n",
      "  %reload_ext autoreload\n"
     ]
    }
   ],
   "source": [
    "# Tipp um eigene Funktionen automatisch neu zu laden\n",
    "%load_ext autoreload\n",
    "%autoreload 2"
   ]
  },
  {
   "cell_type": "markdown",
   "id": "33d7bfac-80c0-4a50-9c2b-4c2430201006",
   "metadata": {},
   "source": [
    "### Skript\n",
    "\n",
    "Wenn der Code, wie im Notebook definiert, in ein Python File kopiert wird, so dass dieser von oben nach unten\n",
    "ausgeführt wird, hat man ein Skript. In den meisten Fällen werdet ihr die Hauptschritte eures Projektes\n",
    "in einem Skript ausführen. Idealerweise werden die wichtigen Komponenten hier aber nur aufgerufen, \n",
    "und befinden sich schön gegliedert in anderen Files."
   ]
  },
  {
   "cell_type": "markdown",
   "id": "88fb2c4a-61fa-449a-9498-b174f45f8c4f",
   "metadata": {},
   "source": [
    "### Funktionen\n",
    "\n",
    "Sobald die gewünschte Herangehensweise im Notebook ausgetestet wurde, macht es Sinn diese in \n",
    "einzelne Funktionen aufzuteilen. Diese haben jeweils eine klar beschrieben Aufgabe, definierte \n",
    "Input und Output Parameter und können somit auch wiederverwendet werden. \n",
    "\n",
    "Meine Empfehlung ist es, sich bevor man den Code in die Funktion gibt, zu überlegen welche Ein- und\n",
    "Ausgangsparameter man erwartet. Am besten geht das, in dem man zuerst die Signatur der Funktion\n",
    "inklusive Docstring schreibt, und dann die Funktionalität aus dem Notebook überträgt, oft mit\n",
    "einigen Verallgemeinerungen."
   ]
  },
  {
   "cell_type": "code",
   "execution_count": 26,
   "id": "dabf0945-f92c-47a2-a72c-af8f341ff31c",
   "metadata": {},
   "outputs": [],
   "source": [
    "# Example of a Function stub, to define functionality, in and output parameters before the implementation\n",
    "def load_profile_for_day(  # Descriptive Name\n",
    "    day: datetime.date,\n",
    "    profile_df: pd.DataFrame,\n",
    "    dynamize: bool = False,  # Parameters, with type hints to make explicit what we expect\n",
    ") -> pd.Series:  # Return type\n",
    "    # Docstring with one title line, optionally some more description, and a description of Arguments and what is returned\n",
    "    \"\"\"Get the 15 minute load profile for a single day.\n",
    "\n",
    "    Args:\n",
    "        day (datetime.date): Date for which to get the load profile.\n",
    "        profile_df (pd.DataFrame): In the format as given by get_profile_from_file.\n",
    "        dynamize (bool): Should dynamization by the 4th-grade polynomial dynamization\n",
    "            function for day of year be applied. This should be only done for H0. Defaults to False.\n",
    "\n",
    "    Returns:\n",
    "        pd.Series: Series with Watt values every 15 minutes, and a pd.DatetimeIndex.\n",
    "    \"\"\"\n",
    "    pass  # Implementation follows in second step."
   ]
  },
  {
   "cell_type": "markdown",
   "id": "6edd25a6-8796-4769-8a90-6987ba517295",
   "metadata": {},
   "source": [
    "Diese Herangehensweise habe ich für die Standardlastprofile gewählt. Im Notebook *11_load_profiles.ipynb*\n",
    "habe ich die einzelnen Schritte ausprobiert, dann habe ich eine Funktion erstellt und diese \n",
    "schlussendlich in ein eigenes File *src/load_profiles.py* kopiert. Von dort können sie nun importiert werden."
   ]
  },
  {
   "cell_type": "code",
   "execution_count": 27,
   "id": "8723bb17-826b-4365-be9a-6ad3a877bff4",
   "metadata": {},
   "outputs": [],
   "source": [
    "from src.load_profiles import get_load_profile"
   ]
  },
  {
   "cell_type": "code",
   "execution_count": 28,
   "id": "39bfefb3-3a94-451c-a736-b68ae348bdbe",
   "metadata": {},
   "outputs": [],
   "source": [
    "lastprofile_file = (\n",
    "    Path(\".\") / \"data\" / \"representative_profiles_vdew.xls\"\n",
    ")\n",
    "assert (\n",
    "    lastprofile_file.is_file()\n",
    "), f\"Did not find file with representative load profiles at {lastprofile_file}\""
   ]
  },
  {
   "cell_type": "code",
   "execution_count": 29,
   "id": "fbd0bc56-60df-45ec-beea-72d41941bcef",
   "metadata": {},
   "outputs": [],
   "source": [
    "h0profile = get_load_profile(\n",
    "    lastprofile_file,\n",
    "    from_=datetime.date(2015, 1, 1),\n",
    "    to=datetime.date(2015, 12, 31),\n",
    "    type=\"H0\",\n",
    ")"
   ]
  },
  {
   "cell_type": "code",
   "execution_count": 30,
   "id": "a34d2ceb-c787-440f-8526-e3fc83565956",
   "metadata": {},
   "outputs": [
    {
     "data": {
      "text/plain": [
       "2015-01-01 00:15:00    108.677635\n",
       "2015-01-01 00:30:00    100.728643\n",
       "2015-01-01 00:45:00     93.152259\n",
       "2015-01-01 01:00:00     85.824281\n",
       "2015-01-01 01:15:00     78.744710\n",
       "dtype: float64"
      ]
     },
     "execution_count": 30,
     "metadata": {},
     "output_type": "execute_result"
    }
   ],
   "source": [
    "h0profile.head()"
   ]
  },
  {
   "cell_type": "markdown",
   "id": "b5f1bd70-7ca0-4250-acb8-66c43eb68fa8",
   "metadata": {},
   "source": [
    "### Classes\n",
    "\n",
    "Objekt-orientiertes Programmieren baut sehr stark auf Klassen auf. Vor allem nützlich wenn Objekte\n",
    "erstellt werden sollen, die auch ihren eigenen Zustand speichern sollen.\n",
    "Klasse am besten in einem eigenen File erstellen, hier ein kurzes Beispiel als Wiederholung."
   ]
  },
  {
   "cell_type": "code",
   "execution_count": 31,
   "id": "85f4df57-6af8-483c-b4ea-d2a4d3df7e90",
   "metadata": {
    "tags": []
   },
   "outputs": [],
   "source": [
    "# Class Names by convention in CamelCase\n",
    "# Inheriting from default class object\n",
    "class Wuerfel(object):\n",
    "    # properties can be defined statically here\n",
    "    seiten = [1, 2, 3, 4, 5, 6]\n",
    "    \n",
    "    # __init__ method is called when the class is instantiated\n",
    "    # Usually used to define properties dynamically\n",
    "    # Every method has self as it's first argument, this is used to access all class properties and methods\n",
    "    def __init__(self, init_seite_oben: int=None):\n",
    "        if init_seite_oben is None:\n",
    "            self.seite_oben = random.choice(self.seiten)\n",
    "        else:\n",
    "            self.seite_oben = init_seite_oben\n",
    "    \n",
    "    # methods, self and possibly more arguments, optional return\n",
    "    def wurf(self):\n",
    "        self.seite_oben = random.choice(self.seiten)\n",
    "\n",
    "    def setzen(self, seite_oben: int):\n",
    "        self.seite_oben = seite_oben\n",
    "        \n",
    "    def check_seite_oben(self) -> bool:\n",
    "        if self.seite_oben in self.seiten:\n",
    "            return True\n",
    "        else:\n",
    "            return False"
   ]
  },
  {
   "cell_type": "code",
   "execution_count": 32,
   "id": "ee2df557-7259-4857-bdba-31baf48964ac",
   "metadata": {
    "tags": []
   },
   "outputs": [
    {
     "data": {
      "text/plain": [
       "1"
      ]
     },
     "execution_count": 32,
     "metadata": {},
     "output_type": "execute_result"
    }
   ],
   "source": [
    "# Instantiate 1 die\n",
    "d1 = Wuerfel(1)\n",
    "d1.seite_oben"
   ]
  },
  {
   "cell_type": "code",
   "execution_count": 33,
   "id": "0ae35d75-6790-415b-ac87-3146a7b2fbcd",
   "metadata": {
    "tags": []
   },
   "outputs": [
    {
     "data": {
      "text/plain": [
       "1"
      ]
     },
     "execution_count": 33,
     "metadata": {},
     "output_type": "execute_result"
    }
   ],
   "source": [
    "d1.wurf()\n",
    "d1.seite_oben"
   ]
  },
  {
   "cell_type": "code",
   "execution_count": 34,
   "id": "18aea3f7-c1e4-4f46-bf0d-8b50b95d4e56",
   "metadata": {
    "tags": []
   },
   "outputs": [
    {
     "data": {
      "text/plain": [
       "1"
      ]
     },
     "execution_count": 34,
     "metadata": {},
     "output_type": "execute_result"
    }
   ],
   "source": [
    "# Can create multiple instances of dice\n",
    "d2 = Wuerfel()\n",
    "d2.seite_oben"
   ]
  },
  {
   "cell_type": "code",
   "execution_count": 35,
   "id": "cc485652-fa5a-45ad-b71a-f9ea9fabc3c9",
   "metadata": {},
   "outputs": [
    {
     "data": {
      "text/plain": [
       "1"
      ]
     },
     "execution_count": 35,
     "metadata": {},
     "output_type": "execute_result"
    }
   ],
   "source": [
    "# d1 is independent\n",
    "d1.seite_oben"
   ]
  },
  {
   "cell_type": "code",
   "execution_count": 36,
   "id": "54cef2d6-e0c9-4fe3-9ea4-0068b60e8d0b",
   "metadata": {
    "tags": []
   },
   "outputs": [
    {
     "name": "stdout",
     "output_type": "stream",
     "text": [
      "True\n",
      "False\n"
     ]
    }
   ],
   "source": [
    "print(d2.check_seite_oben())\n",
    "d2.setzen(7)\n",
    "print(d2.check_seite_oben())"
   ]
  },
  {
   "cell_type": "code",
   "execution_count": 37,
   "id": "aff4a376-ae1b-4455-900b-e05f02fa1e69",
   "metadata": {
    "tags": []
   },
   "outputs": [
    {
     "data": {
      "text/plain": [
       "['__class__',\n",
       " '__delattr__',\n",
       " '__dict__',\n",
       " '__dir__',\n",
       " '__doc__',\n",
       " '__eq__',\n",
       " '__format__',\n",
       " '__ge__',\n",
       " '__getattribute__',\n",
       " '__getstate__',\n",
       " '__gt__',\n",
       " '__hash__',\n",
       " '__init__',\n",
       " '__init_subclass__',\n",
       " '__le__',\n",
       " '__lt__',\n",
       " '__module__',\n",
       " '__ne__',\n",
       " '__new__',\n",
       " '__reduce__',\n",
       " '__reduce_ex__',\n",
       " '__repr__',\n",
       " '__setattr__',\n",
       " '__sizeof__',\n",
       " '__str__',\n",
       " '__subclasshook__',\n",
       " '__weakref__',\n",
       " 'check_seite_oben',\n",
       " 'seite_oben',\n",
       " 'seiten',\n",
       " 'setzen',\n",
       " 'wurf']"
      ]
     },
     "execution_count": 37,
     "metadata": {},
     "output_type": "execute_result"
    }
   ],
   "source": [
    "# Inspect class instance\n",
    "dir(d2)\n",
    "# __name__ methods are thunder methods that are defined by object. They are used for various operations\n",
    "# Sometimes you want to redefine them, so you get special behaviour.\n",
    "# _name methods and properties are usually private, so not intended to be used\n",
    "# all our defined properties and methods are in the end"
   ]
  },
  {
   "cell_type": "code",
   "execution_count": 38,
   "id": "1e8c2d6b-0342-4b28-a1f8-4fae667c292c",
   "metadata": {
    "tags": []
   },
   "outputs": [
    {
     "name": "stdout",
     "output_type": "stream",
     "text": [
      "<__main__.Wuerfel object at 0x7f123ddeee10>\n"
     ]
    }
   ],
   "source": [
    "# Overwrite the str method, that defines what happens when the class is printed / converted to string\n",
    "print(d2)"
   ]
  },
  {
   "cell_type": "code",
   "execution_count": 39,
   "id": "312441d6-2b0c-4d37-89a2-b0f746678a21",
   "metadata": {
    "tags": []
   },
   "outputs": [],
   "source": [
    "def wuerfel_str(self):\n",
    "    return str(self.seite_oben)\n",
    "\n",
    "# Adding methods outside of the class definition is not good practice\n",
    "Wuerfel.__str__ = wuerfel_str"
   ]
  },
  {
   "cell_type": "code",
   "execution_count": 40,
   "id": "7bbc0d93-041d-4cd7-9dbc-6ea48efbaa03",
   "metadata": {
    "tags": []
   },
   "outputs": [
    {
     "name": "stdout",
     "output_type": "stream",
     "text": [
      "7\n"
     ]
    }
   ],
   "source": [
    "print(d2)"
   ]
  },
  {
   "cell_type": "markdown",
   "id": "793eb1ec-16df-4d30-b62f-f94293dc763e",
   "metadata": {
    "editable": true,
    "slideshow": {
     "slide_type": ""
    },
    "tags": []
   },
   "source": [
    "## Timeseries\n",
    "\n",
    "Wir arbeiten mit Zeitserien, Diskretisierung in Intervalle, zB 15 Minuten Werte.\n",
    "\n",
    "Python Tool: pandas DataFrame (oder Series) mit DateTimeIndex. "
   ]
  },
  {
   "cell_type": "markdown",
   "id": "442361be-eb57-4f1b-89b6-948288623a54",
   "metadata": {},
   "source": [
    "### Daten importieren\n",
    "\n",
    "Ich importiere hier die Daten die ich in Notebooks 10 und 11 erzeugt habe.\n",
    "Wenn dieser Code nicht funktioniert, erst diese beiden Notebooks ausführen."
   ]
  },
  {
   "cell_type": "code",
   "execution_count": 41,
   "id": "600afa1c-b730-4254-b990-f020f27cc111",
   "metadata": {},
   "outputs": [
    {
     "data": {
      "text/html": [
       "<div>\n",
       "<style scoped>\n",
       "    .dataframe tbody tr th:only-of-type {\n",
       "        vertical-align: middle;\n",
       "    }\n",
       "\n",
       "    .dataframe tbody tr th {\n",
       "        vertical-align: top;\n",
       "    }\n",
       "\n",
       "    .dataframe thead th {\n",
       "        text-align: right;\n",
       "    }\n",
       "</style>\n",
       "<table border=\"1\" class=\"dataframe\">\n",
       "  <thead>\n",
       "    <tr style=\"text-align: right;\">\n",
       "      <th></th>\n",
       "      <th>time(UTC)</th>\n",
       "      <th>0</th>\n",
       "    </tr>\n",
       "  </thead>\n",
       "  <tbody>\n",
       "    <tr>\n",
       "      <th>0</th>\n",
       "      <td>2015-01-01 00:00:00</td>\n",
       "      <td>-0.1</td>\n",
       "    </tr>\n",
       "    <tr>\n",
       "      <th>1</th>\n",
       "      <td>2015-01-01 01:00:00</td>\n",
       "      <td>-0.1</td>\n",
       "    </tr>\n",
       "    <tr>\n",
       "      <th>2</th>\n",
       "      <td>2015-01-01 02:00:00</td>\n",
       "      <td>-0.1</td>\n",
       "    </tr>\n",
       "    <tr>\n",
       "      <th>3</th>\n",
       "      <td>2015-01-01 03:00:00</td>\n",
       "      <td>-0.1</td>\n",
       "    </tr>\n",
       "    <tr>\n",
       "      <th>4</th>\n",
       "      <td>2015-01-01 04:00:00</td>\n",
       "      <td>-0.1</td>\n",
       "    </tr>\n",
       "  </tbody>\n",
       "</table>\n",
       "</div>"
      ],
      "text/plain": [
       "             time(UTC)    0\n",
       "0  2015-01-01 00:00:00 -0.1\n",
       "1  2015-01-01 01:00:00 -0.1\n",
       "2  2015-01-01 02:00:00 -0.1\n",
       "3  2015-01-01 03:00:00 -0.1\n",
       "4  2015-01-01 04:00:00 -0.1"
      ]
     },
     "execution_count": 41,
     "metadata": {},
     "output_type": "execute_result"
    }
   ],
   "source": [
    "pv = pd.read_csv('outputs/pv_example.csv')\n",
    "pv.head()"
   ]
  },
  {
   "cell_type": "code",
   "execution_count": 42,
   "id": "57c4ec2d-adca-43a3-bcbb-ba3805544ed1",
   "metadata": {},
   "outputs": [
    {
     "data": {
      "text/html": [
       "<div>\n",
       "<style scoped>\n",
       "    .dataframe tbody tr th:only-of-type {\n",
       "        vertical-align: middle;\n",
       "    }\n",
       "\n",
       "    .dataframe tbody tr th {\n",
       "        vertical-align: top;\n",
       "    }\n",
       "\n",
       "    .dataframe thead th {\n",
       "        text-align: right;\n",
       "    }\n",
       "</style>\n",
       "<table border=\"1\" class=\"dataframe\">\n",
       "  <thead>\n",
       "    <tr style=\"text-align: right;\">\n",
       "      <th></th>\n",
       "      <th>0</th>\n",
       "    </tr>\n",
       "  </thead>\n",
       "  <tbody>\n",
       "    <tr>\n",
       "      <th>2015-01-01 00:15:00</th>\n",
       "      <td>63.2</td>\n",
       "    </tr>\n",
       "    <tr>\n",
       "      <th>2015-01-01 00:30:00</th>\n",
       "      <td>61.0</td>\n",
       "    </tr>\n",
       "    <tr>\n",
       "      <th>2015-01-01 00:45:00</th>\n",
       "      <td>58.9</td>\n",
       "    </tr>\n",
       "    <tr>\n",
       "      <th>2015-01-01 01:00:00</th>\n",
       "      <td>57.0</td>\n",
       "    </tr>\n",
       "    <tr>\n",
       "      <th>2015-01-01 01:15:00</th>\n",
       "      <td>55.3</td>\n",
       "    </tr>\n",
       "  </tbody>\n",
       "</table>\n",
       "</div>"
      ],
      "text/plain": [
       "                        0\n",
       "2015-01-01 00:15:00  63.2\n",
       "2015-01-01 00:30:00  61.0\n",
       "2015-01-01 00:45:00  58.9\n",
       "2015-01-01 01:00:00  57.0\n",
       "2015-01-01 01:15:00  55.3"
      ]
     },
     "execution_count": 42,
     "metadata": {},
     "output_type": "execute_result"
    }
   ],
   "source": [
    "# May also directly read in index\n",
    "g0 = pd.read_csv('outputs/g0_2015.csv', index_col=0)\n",
    "g0.head()"
   ]
  },
  {
   "cell_type": "markdown",
   "id": "f87a4a0a-6b78-4798-b94e-4dc102aafb6d",
   "metadata": {
    "tags": []
   },
   "source": [
    "### DatetimeIndex und Zeitzonen\n",
    "\n",
    "Ein großer Vorteil von Pandas ist, das komplexere Objekte den Index bilden können, so zum Beispiel Datetimes.\n",
    "Diese können verwendet werden um relativ einfach unterschiedliche Zeiträume auszuwählen, Plots haben per Default \n",
    "eine Zeitachse, und auch der Wechsel zwischen unterschiedlichen Intervallen oder Zusammenfassungen sind relativ simpel möglich.\n",
    "Dazu zuerst ein paar Beispiele mit den Lastdaten von g0.\n",
    "\n",
    "Vor allem wenn Daten aus verschiedenen Quellen verwendet werden, ist es wichtig das die Zeiten zueinander stimmen.\n",
    "Durch Zeitzonen, Sommerzeit und unterschiedliche Datumsformate können da aber recht leicht Fehler auftreten.\n",
    "Auch dazu will ich ein paar Code Beispiele geben."
   ]
  },
  {
   "cell_type": "code",
   "execution_count": 43,
   "id": "f7b7c232-81f9-4319-8892-1b0400da6039",
   "metadata": {
    "tags": []
   },
   "outputs": [
    {
     "data": {
      "text/plain": [
       "pandas.core.indexes.base.Index"
      ]
     },
     "execution_count": 43,
     "metadata": {},
     "output_type": "execute_result"
    }
   ],
   "source": [
    "# Check if index is already DatetimeIndex\n",
    "type(g0.index)"
   ]
  },
  {
   "cell_type": "code",
   "execution_count": 44,
   "id": "0f60f996-b294-4134-9e24-c716079e7b3d",
   "metadata": {
    "tags": []
   },
   "outputs": [
    {
     "ename": "AttributeError",
     "evalue": "'Index' object has no attribute 'month'",
     "output_type": "error",
     "traceback": [
      "\u001b[0;31m---------------------------------------------------------------------------\u001b[0m",
      "\u001b[0;31mAttributeError\u001b[0m                            Traceback (most recent call last)",
      "Cell \u001b[0;32mIn[44], line 2\u001b[0m\n\u001b[1;32m      1\u001b[0m \u001b[38;5;66;03m# This does not work without a datetimeindex\u001b[39;00m\n\u001b[0;32m----> 2\u001b[0m \u001b[43mg0\u001b[49m\u001b[38;5;241;43m.\u001b[39;49m\u001b[43mindex\u001b[49m\u001b[38;5;241;43m.\u001b[39;49m\u001b[43mmonth\u001b[49m\n\u001b[1;32m      3\u001b[0m g0\u001b[38;5;241m.\u001b[39mloc[\u001b[38;5;124m'\u001b[39m\u001b[38;5;124m2015-05-01\u001b[39m\u001b[38;5;124m'\u001b[39m]\n",
      "\u001b[0;31mAttributeError\u001b[0m: 'Index' object has no attribute 'month'"
     ]
    }
   ],
   "source": [
    "# This does not work without a datetimeindex\n",
    "g0.index.month\n",
    "g0.loc['2015-05-01']"
   ]
  },
  {
   "cell_type": "code",
   "execution_count": 47,
   "id": "8c0c1ae3-1f7c-4901-aa50-f18f031e91db",
   "metadata": {
    "tags": []
   },
   "outputs": [
    {
     "data": {
      "text/plain": [
       "pandas.core.indexes.datetimes.DatetimeIndex"
      ]
     },
     "execution_count": 47,
     "metadata": {},
     "output_type": "execute_result"
    }
   ],
   "source": [
    "# This works in many cases, for non-standard formats see further below\n",
    "g0.index = pd.to_datetime(g0.index)\n",
    "type(g0.index)"
   ]
  },
  {
   "cell_type": "code",
   "execution_count": 48,
   "id": "3da3e2b0-7bac-494c-bf4f-ea7510fdb787",
   "metadata": {
    "tags": []
   },
   "outputs": [
    {
     "data": {
      "text/plain": [
       "Index([1, 2, 3, 4, 5, 6, 7, 8, 9, 10, 11, 12], dtype='int32')"
      ]
     },
     "execution_count": 48,
     "metadata": {},
     "output_type": "execute_result"
    }
   ],
   "source": [
    "# Now this works\n",
    "g0.index.month.unique()"
   ]
  },
  {
   "cell_type": "code",
   "execution_count": 49,
   "id": "c71375a0-a68d-4875-84b5-0f5f407ce435",
   "metadata": {
    "tags": []
   },
   "outputs": [
    {
     "data": {
      "text/html": [
       "<div>\n",
       "<style scoped>\n",
       "    .dataframe tbody tr th:only-of-type {\n",
       "        vertical-align: middle;\n",
       "    }\n",
       "\n",
       "    .dataframe tbody tr th {\n",
       "        vertical-align: top;\n",
       "    }\n",
       "\n",
       "    .dataframe thead th {\n",
       "        text-align: right;\n",
       "    }\n",
       "</style>\n",
       "<table border=\"1\" class=\"dataframe\">\n",
       "  <thead>\n",
       "    <tr style=\"text-align: right;\">\n",
       "      <th></th>\n",
       "      <th>0</th>\n",
       "    </tr>\n",
       "  </thead>\n",
       "  <tbody>\n",
       "    <tr>\n",
       "      <th>2015-01-01 07:00:00</th>\n",
       "      <td>51.4</td>\n",
       "    </tr>\n",
       "    <tr>\n",
       "      <th>2015-01-01 07:15:00</th>\n",
       "      <td>51.8</td>\n",
       "    </tr>\n",
       "    <tr>\n",
       "      <th>2015-01-01 07:30:00</th>\n",
       "      <td>51.7</td>\n",
       "    </tr>\n",
       "    <tr>\n",
       "      <th>2015-01-01 07:45:00</th>\n",
       "      <td>51.2</td>\n",
       "    </tr>\n",
       "    <tr>\n",
       "      <th>2015-01-01 08:00:00</th>\n",
       "      <td>50.5</td>\n",
       "    </tr>\n",
       "    <tr>\n",
       "      <th>2015-01-01 08:15:00</th>\n",
       "      <td>49.6</td>\n",
       "    </tr>\n",
       "    <tr>\n",
       "      <th>2015-01-01 08:30:00</th>\n",
       "      <td>49.0</td>\n",
       "    </tr>\n",
       "    <tr>\n",
       "      <th>2015-01-01 08:45:00</th>\n",
       "      <td>48.8</td>\n",
       "    </tr>\n",
       "    <tr>\n",
       "      <th>2015-01-01 09:00:00</th>\n",
       "      <td>49.5</td>\n",
       "    </tr>\n",
       "    <tr>\n",
       "      <th>2015-01-01 09:15:00</th>\n",
       "      <td>51.3</td>\n",
       "    </tr>\n",
       "    <tr>\n",
       "      <th>2015-01-01 09:30:00</th>\n",
       "      <td>53.8</td>\n",
       "    </tr>\n",
       "    <tr>\n",
       "      <th>2015-01-01 09:45:00</th>\n",
       "      <td>56.8</td>\n",
       "    </tr>\n",
       "    <tr>\n",
       "      <th>2015-01-01 10:00:00</th>\n",
       "      <td>59.8</td>\n",
       "    </tr>\n",
       "  </tbody>\n",
       "</table>\n",
       "</div>"
      ],
      "text/plain": [
       "                        0\n",
       "2015-01-01 07:00:00  51.4\n",
       "2015-01-01 07:15:00  51.8\n",
       "2015-01-01 07:30:00  51.7\n",
       "2015-01-01 07:45:00  51.2\n",
       "2015-01-01 08:00:00  50.5\n",
       "2015-01-01 08:15:00  49.6\n",
       "2015-01-01 08:30:00  49.0\n",
       "2015-01-01 08:45:00  48.8\n",
       "2015-01-01 09:00:00  49.5\n",
       "2015-01-01 09:15:00  51.3\n",
       "2015-01-01 09:30:00  53.8\n",
       "2015-01-01 09:45:00  56.8\n",
       "2015-01-01 10:00:00  59.8"
      ]
     },
     "execution_count": 49,
     "metadata": {},
     "output_type": "execute_result"
    }
   ],
   "source": [
    "# And this\n",
    "g0.loc['2015-01-01 07:00' : '2015-01-01 10:00']"
   ]
  },
  {
   "cell_type": "code",
   "execution_count": 50,
   "id": "5c1f5b3f-279c-47ad-b64c-9761555dce1b",
   "metadata": {
    "tags": []
   },
   "outputs": [
    {
     "data": {
      "text/plain": [
       "<Axes: >"
      ]
     },
     "execution_count": 50,
     "metadata": {},
     "output_type": "execute_result"
    },
    {
     "data": {
      "image/png": "[encoded data removed]",
      "text/plain": [
       "<Figure size 640x480 with 1 Axes>"
      ]
     },
     "metadata": {},
     "output_type": "display_data"
    }
   ],
   "source": [
    "# And plotting with date axis\n",
    "g0.loc['2015-04-01'].plot()\n",
    "# TODO: Probably still an error in the data here, only one day with 'weekend' profile..."
   ]
  },
  {
   "cell_type": "code",
   "execution_count": 51,
   "id": "441836b7-76b5-47c3-87e7-0bd9a5fda2e8",
   "metadata": {
    "tags": []
   },
   "outputs": [
    {
     "data": {
      "text/plain": [
       "0    1102328.95\n",
       "dtype: float64"
      ]
     },
     "execution_count": 51,
     "metadata": {},
     "output_type": "execute_result"
    }
   ],
   "source": [
    "# As the pv data is hourly, let's resample our demand data to hours too\n",
    "g0.sum() / 4. # This should give 1000 kWh -> g0 is in W"
   ]
  },
  {
   "cell_type": "code",
   "execution_count": 52,
   "id": "f2a78dde-137b-49a6-b446-0772f0b8cf6f",
   "metadata": {
    "tags": []
   },
   "outputs": [
    {
     "name": "stderr",
     "output_type": "stream",
     "text": [
      "/tmp/ipykernel_75452/2506162210.py:2: FutureWarning: 'H' is deprecated and will be removed in a future version, please use 'h' instead.\n",
      "  g0_hourly = g0.resample('H').mean()\n"
     ]
    }
   ],
   "source": [
    "# We resample by the mean as we have power units (would sum for energy)\n",
    "g0_hourly = g0.resample('H').mean()"
   ]
  },
  {
   "cell_type": "code",
   "execution_count": 53,
   "id": "a4ec0060-5c9c-43a8-9195-88661dad58b0",
   "metadata": {},
   "outputs": [
    {
     "data": {
      "text/plain": [
       "Ellipsis"
      ]
     },
     "execution_count": 53,
     "metadata": {},
     "output_type": "execute_result"
    }
   ],
   "source": [
    "# And now calculate Energy consumption by month\n",
    "# Check https://pandas.pydata.org/pandas-docs/stable/user_guide/timeseries.html#dateoffset-objects for the offset strings\n",
    "..."
   ]
  },
  {
   "cell_type": "code",
   "execution_count": 54,
   "id": "c450584d-3ce6-49f9-bd12-69e84a0fa175",
   "metadata": {
    "tags": []
   },
   "outputs": [
    {
     "name": "stdout",
     "output_type": "stream",
     "text": [
      "time(UTC)     object\n",
      "0            float64\n",
      "dtype: object\n"
     ]
    },
    {
     "data": {
      "text/plain": [
       "0      2015-01-01 00:00:00\n",
       "1      2015-01-01 01:00:00\n",
       "2      2015-01-01 02:00:00\n",
       "3      2015-01-01 03:00:00\n",
       "4      2015-01-01 04:00:00\n",
       "               ...        \n",
       "8755   2015-12-31 19:00:00\n",
       "8756   2015-12-31 20:00:00\n",
       "8757   2015-12-31 21:00:00\n",
       "8758   2015-12-31 22:00:00\n",
       "8759   2015-12-31 23:00:00\n",
       "Name: time(UTC), Length: 8760, dtype: datetime64[ns]"
      ]
     },
     "execution_count": 54,
     "metadata": {},
     "output_type": "execute_result"
    }
   ],
   "source": [
    "# Check different datetime strings\n",
    "print(pv.dtypes)\n",
    "# This works again, and also is in UTC (nice!)\n",
    "pd.to_datetime(pv['time(UTC)'])"
   ]
  },
  {
   "cell_type": "code",
   "execution_count": 55,
   "id": "8de45206-d985-48ea-bfc4-f9c04cb2347a",
   "metadata": {
    "tags": []
   },
   "outputs": [
    {
     "data": {
      "text/plain": [
       "0    01.01.15 00:00\n",
       "1    01.01.15 01:00\n",
       "2    01.01.15 02:00\n",
       "3    01.01.15 03:00\n",
       "4    01.01.15 04:00\n",
       "Name: time2, dtype: object"
      ]
     },
     "execution_count": 55,
     "metadata": {},
     "output_type": "execute_result"
    }
   ],
   "source": [
    "# But let's suppose a different format\n",
    "pv['time2'] = pd.to_datetime(pv['time(UTC)']).dt.strftime('%d.%m.%y %H:%M')\n",
    "pv['time2'].head()"
   ]
  },
  {
   "cell_type": "code",
   "execution_count": 56,
   "id": "37e835a3-46a3-4ad8-9ec1-837c23842f0e",
   "metadata": {
    "tags": []
   },
   "outputs": [
    {
     "name": "stderr",
     "output_type": "stream",
     "text": [
      "/tmp/ipykernel_75452/1765157529.py:2: UserWarning: Could not infer format, so each element will be parsed individually, falling back to `dateutil`. To ensure parsing is consistent and as-expected, please specify a format.\n",
      "  pd.to_datetime(pv['time2'][23:26])\n"
     ]
    },
    {
     "data": {
      "text/plain": [
       "23   2015-01-01 23:00:00\n",
       "24   2015-02-01 00:00:00\n",
       "25   2015-02-01 01:00:00\n",
       "Name: time2, dtype: datetime64[ns]"
      ]
     },
     "execution_count": 56,
     "metadata": {},
     "output_type": "execute_result"
    }
   ],
   "source": [
    "# As the warning states, this may not always work. In this case it mixed up month and day.\n",
    "pd.to_datetime(pv['time2'][23:26])"
   ]
  },
  {
   "cell_type": "code",
   "execution_count": 57,
   "id": "50bd8657-28d7-451b-8de3-198660c1b47a",
   "metadata": {
    "tags": []
   },
   "outputs": [
    {
     "data": {
      "text/plain": [
       "23   2015-01-01 23:00:00\n",
       "24   2015-01-02 00:00:00\n",
       "25   2015-01-02 01:00:00\n",
       "Name: time2, dtype: datetime64[ns]"
      ]
     },
     "execution_count": 57,
     "metadata": {},
     "output_type": "execute_result"
    }
   ],
   "source": [
    "# So better to explicitely specify the format\n",
    "# Format according to the C standard formats: https://docs.python.org/3/library/datetime.html#strftime-and-strptime-format-codes\n",
    "pd.to_datetime(pv['time2'][23:26], format='%d.%m.%y %H:%M')"
   ]
  },
  {
   "cell_type": "code",
   "execution_count": 58,
   "id": "7f62c6dd-ca31-4dec-bd89-54c6a1c82ada",
   "metadata": {
    "tags": []
   },
   "outputs": [
    {
     "data": {
      "text/html": [
       "<div>\n",
       "<style scoped>\n",
       "    .dataframe tbody tr th:only-of-type {\n",
       "        vertical-align: middle;\n",
       "    }\n",
       "\n",
       "    .dataframe tbody tr th {\n",
       "        vertical-align: top;\n",
       "    }\n",
       "\n",
       "    .dataframe thead th {\n",
       "        text-align: right;\n",
       "    }\n",
       "</style>\n",
       "<table border=\"1\" class=\"dataframe\">\n",
       "  <thead>\n",
       "    <tr style=\"text-align: right;\">\n",
       "      <th></th>\n",
       "      <th>time(UTC)</th>\n",
       "      <th>0</th>\n",
       "      <th>time2</th>\n",
       "    </tr>\n",
       "    <tr>\n",
       "      <th>time(UTC)</th>\n",
       "      <th></th>\n",
       "      <th></th>\n",
       "      <th></th>\n",
       "    </tr>\n",
       "  </thead>\n",
       "  <tbody>\n",
       "    <tr>\n",
       "      <th>2015-01-01 00:00:00+00:00</th>\n",
       "      <td>2015-01-01 00:00:00</td>\n",
       "      <td>-0.1</td>\n",
       "      <td>01.01.15 00:00</td>\n",
       "    </tr>\n",
       "    <tr>\n",
       "      <th>2015-01-01 01:00:00+00:00</th>\n",
       "      <td>2015-01-01 01:00:00</td>\n",
       "      <td>-0.1</td>\n",
       "      <td>01.01.15 01:00</td>\n",
       "    </tr>\n",
       "    <tr>\n",
       "      <th>2015-01-01 02:00:00+00:00</th>\n",
       "      <td>2015-01-01 02:00:00</td>\n",
       "      <td>-0.1</td>\n",
       "      <td>01.01.15 02:00</td>\n",
       "    </tr>\n",
       "    <tr>\n",
       "      <th>2015-01-01 03:00:00+00:00</th>\n",
       "      <td>2015-01-01 03:00:00</td>\n",
       "      <td>-0.1</td>\n",
       "      <td>01.01.15 03:00</td>\n",
       "    </tr>\n",
       "    <tr>\n",
       "      <th>2015-01-01 04:00:00+00:00</th>\n",
       "      <td>2015-01-01 04:00:00</td>\n",
       "      <td>-0.1</td>\n",
       "      <td>01.01.15 04:00</td>\n",
       "    </tr>\n",
       "  </tbody>\n",
       "</table>\n",
       "</div>"
      ],
      "text/plain": [
       "                                     time(UTC)    0           time2\n",
       "time(UTC)                                                          \n",
       "2015-01-01 00:00:00+00:00  2015-01-01 00:00:00 -0.1  01.01.15 00:00\n",
       "2015-01-01 01:00:00+00:00  2015-01-01 01:00:00 -0.1  01.01.15 01:00\n",
       "2015-01-01 02:00:00+00:00  2015-01-01 02:00:00 -0.1  01.01.15 02:00\n",
       "2015-01-01 03:00:00+00:00  2015-01-01 03:00:00 -0.1  01.01.15 03:00\n",
       "2015-01-01 04:00:00+00:00  2015-01-01 04:00:00 -0.1  01.01.15 04:00"
      ]
     },
     "execution_count": 58,
     "metadata": {},
     "output_type": "execute_result"
    }
   ],
   "source": [
    "# Even better to always use ISO 8601 format with time zone information\n",
    "pv.index = pd.to_datetime(pv['time(UTC)'])\n",
    "pv = pv.tz_localize('UTC')\n",
    "pv.head()"
   ]
  },
  {
   "cell_type": "code",
   "execution_count": 59,
   "id": "8b90026c-3182-4118-8afc-036efed792d1",
   "metadata": {
    "tags": []
   },
   "outputs": [
    {
     "ename": "NonExistentTimeError",
     "evalue": "2015-03-29 02:00:00",
     "output_type": "error",
     "traceback": [
      "\u001b[0;31m---------------------------------------------------------------------------\u001b[0m",
      "\u001b[0;31mNonExistentTimeError\u001b[0m                      Traceback (most recent call last)",
      "Cell \u001b[0;32mIn[59], line 2\u001b[0m\n\u001b[1;32m      1\u001b[0m \u001b[38;5;66;03m# We also have to use load profiles with timezone now! Should be changed in functionality, as this is in local time\u001b[39;00m\n\u001b[0;32m----> 2\u001b[0m \u001b[43mg0\u001b[49m\u001b[38;5;241;43m.\u001b[39;49m\u001b[43mtz_localize\u001b[49m\u001b[43m(\u001b[49m\u001b[38;5;124;43m'\u001b[39;49m\u001b[38;5;124;43mEurope/Berlin\u001b[39;49m\u001b[38;5;124;43m'\u001b[39;49m\u001b[43m)\u001b[49m\n",
      "File \u001b[0;32m~/Applications/miniconda3/envs/pandapower312/lib/python3.12/site-packages/pandas/core/generic.py:11725\u001b[0m, in \u001b[0;36mNDFrame.tz_localize\u001b[0;34m(self, tz, axis, level, copy, ambiguous, nonexistent)\u001b[0m\n\u001b[1;32m  11723\u001b[0m     \u001b[38;5;28;01mif\u001b[39;00m level \u001b[38;5;129;01mnot\u001b[39;00m \u001b[38;5;129;01min\u001b[39;00m (\u001b[38;5;28;01mNone\u001b[39;00m, \u001b[38;5;241m0\u001b[39m, ax\u001b[38;5;241m.\u001b[39mname):\n\u001b[1;32m  11724\u001b[0m         \u001b[38;5;28;01mraise\u001b[39;00m \u001b[38;5;167;01mValueError\u001b[39;00m(\u001b[38;5;124mf\u001b[39m\u001b[38;5;124m\"\u001b[39m\u001b[38;5;124mThe level \u001b[39m\u001b[38;5;132;01m{\u001b[39;00mlevel\u001b[38;5;132;01m}\u001b[39;00m\u001b[38;5;124m is not valid\u001b[39m\u001b[38;5;124m\"\u001b[39m)\n\u001b[0;32m> 11725\u001b[0m     ax \u001b[38;5;241m=\u001b[39m \u001b[43m_tz_localize\u001b[49m\u001b[43m(\u001b[49m\u001b[43max\u001b[49m\u001b[43m,\u001b[49m\u001b[43m \u001b[49m\u001b[43mtz\u001b[49m\u001b[43m,\u001b[49m\u001b[43m \u001b[49m\u001b[43mambiguous\u001b[49m\u001b[43m,\u001b[49m\u001b[43m \u001b[49m\u001b[43mnonexistent\u001b[49m\u001b[43m)\u001b[49m\n\u001b[1;32m  11727\u001b[0m result \u001b[38;5;241m=\u001b[39m \u001b[38;5;28mself\u001b[39m\u001b[38;5;241m.\u001b[39mcopy(deep\u001b[38;5;241m=\u001b[39mcopy \u001b[38;5;129;01mand\u001b[39;00m \u001b[38;5;129;01mnot\u001b[39;00m using_copy_on_write())\n\u001b[1;32m  11728\u001b[0m result \u001b[38;5;241m=\u001b[39m result\u001b[38;5;241m.\u001b[39mset_axis(ax, axis\u001b[38;5;241m=\u001b[39maxis, copy\u001b[38;5;241m=\u001b[39m\u001b[38;5;28;01mFalse\u001b[39;00m)\n",
      "File \u001b[0;32m~/Applications/miniconda3/envs/pandapower312/lib/python3.12/site-packages/pandas/core/generic.py:11713\u001b[0m, in \u001b[0;36mNDFrame.tz_localize.<locals>._tz_localize\u001b[0;34m(ax, tz, ambiguous, nonexistent)\u001b[0m\n\u001b[1;32m  11711\u001b[0m     ax \u001b[38;5;241m=\u001b[39m DatetimeIndex([], tz\u001b[38;5;241m=\u001b[39mtz)\n\u001b[1;32m  11712\u001b[0m \u001b[38;5;28;01melse\u001b[39;00m:\n\u001b[0;32m> 11713\u001b[0m     ax \u001b[38;5;241m=\u001b[39m \u001b[43max\u001b[49m\u001b[38;5;241;43m.\u001b[39;49m\u001b[43mtz_localize\u001b[49m\u001b[43m(\u001b[49m\u001b[43mtz\u001b[49m\u001b[43m,\u001b[49m\u001b[43m \u001b[49m\u001b[43mambiguous\u001b[49m\u001b[38;5;241;43m=\u001b[39;49m\u001b[43mambiguous\u001b[49m\u001b[43m,\u001b[49m\u001b[43m \u001b[49m\u001b[43mnonexistent\u001b[49m\u001b[38;5;241;43m=\u001b[39;49m\u001b[43mnonexistent\u001b[49m\u001b[43m)\u001b[49m\n\u001b[1;32m  11714\u001b[0m \u001b[38;5;28;01mreturn\u001b[39;00m ax\n",
      "File \u001b[0;32m~/Applications/miniconda3/envs/pandapower312/lib/python3.12/site-packages/pandas/core/indexes/datetimes.py:293\u001b[0m, in \u001b[0;36mDatetimeIndex.tz_localize\u001b[0;34m(self, tz, ambiguous, nonexistent)\u001b[0m\n\u001b[1;32m    286\u001b[0m \u001b[38;5;129m@doc\u001b[39m(DatetimeArray\u001b[38;5;241m.\u001b[39mtz_localize)\n\u001b[1;32m    287\u001b[0m \u001b[38;5;28;01mdef\u001b[39;00m \u001b[38;5;21mtz_localize\u001b[39m(\n\u001b[1;32m    288\u001b[0m     \u001b[38;5;28mself\u001b[39m,\n\u001b[0;32m   (...)\u001b[0m\n\u001b[1;32m    291\u001b[0m     nonexistent: TimeNonexistent \u001b[38;5;241m=\u001b[39m \u001b[38;5;124m\"\u001b[39m\u001b[38;5;124mraise\u001b[39m\u001b[38;5;124m\"\u001b[39m,\n\u001b[1;32m    292\u001b[0m ) \u001b[38;5;241m-\u001b[39m\u001b[38;5;241m>\u001b[39m Self:\n\u001b[0;32m--> 293\u001b[0m     arr \u001b[38;5;241m=\u001b[39m \u001b[38;5;28;43mself\u001b[39;49m\u001b[38;5;241;43m.\u001b[39;49m\u001b[43m_data\u001b[49m\u001b[38;5;241;43m.\u001b[39;49m\u001b[43mtz_localize\u001b[49m\u001b[43m(\u001b[49m\u001b[43mtz\u001b[49m\u001b[43m,\u001b[49m\u001b[43m \u001b[49m\u001b[43mambiguous\u001b[49m\u001b[43m,\u001b[49m\u001b[43m \u001b[49m\u001b[43mnonexistent\u001b[49m\u001b[43m)\u001b[49m\n\u001b[1;32m    294\u001b[0m     \u001b[38;5;28;01mreturn\u001b[39;00m \u001b[38;5;28mtype\u001b[39m(\u001b[38;5;28mself\u001b[39m)\u001b[38;5;241m.\u001b[39m_simple_new(arr, name\u001b[38;5;241m=\u001b[39m\u001b[38;5;28mself\u001b[39m\u001b[38;5;241m.\u001b[39mname)\n",
      "File \u001b[0;32m~/Applications/miniconda3/envs/pandapower312/lib/python3.12/site-packages/pandas/core/arrays/_mixins.py:81\u001b[0m, in \u001b[0;36mravel_compat.<locals>.method\u001b[0;34m(self, *args, **kwargs)\u001b[0m\n\u001b[1;32m     78\u001b[0m \u001b[38;5;129m@wraps\u001b[39m(meth)\n\u001b[1;32m     79\u001b[0m \u001b[38;5;28;01mdef\u001b[39;00m \u001b[38;5;21mmethod\u001b[39m(\u001b[38;5;28mself\u001b[39m, \u001b[38;5;241m*\u001b[39margs, \u001b[38;5;241m*\u001b[39m\u001b[38;5;241m*\u001b[39mkwargs):\n\u001b[1;32m     80\u001b[0m     \u001b[38;5;28;01mif\u001b[39;00m \u001b[38;5;28mself\u001b[39m\u001b[38;5;241m.\u001b[39mndim \u001b[38;5;241m==\u001b[39m \u001b[38;5;241m1\u001b[39m:\n\u001b[0;32m---> 81\u001b[0m         \u001b[38;5;28;01mreturn\u001b[39;00m \u001b[43mmeth\u001b[49m\u001b[43m(\u001b[49m\u001b[38;5;28;43mself\u001b[39;49m\u001b[43m,\u001b[49m\u001b[43m \u001b[49m\u001b[38;5;241;43m*\u001b[39;49m\u001b[43margs\u001b[49m\u001b[43m,\u001b[49m\u001b[43m \u001b[49m\u001b[38;5;241;43m*\u001b[39;49m\u001b[38;5;241;43m*\u001b[39;49m\u001b[43mkwargs\u001b[49m\u001b[43m)\u001b[49m\n\u001b[1;32m     83\u001b[0m     flags \u001b[38;5;241m=\u001b[39m \u001b[38;5;28mself\u001b[39m\u001b[38;5;241m.\u001b[39m_ndarray\u001b[38;5;241m.\u001b[39mflags\n\u001b[1;32m     84\u001b[0m     flat \u001b[38;5;241m=\u001b[39m \u001b[38;5;28mself\u001b[39m\u001b[38;5;241m.\u001b[39mravel(\u001b[38;5;124m\"\u001b[39m\u001b[38;5;124mK\u001b[39m\u001b[38;5;124m\"\u001b[39m)\n",
      "File \u001b[0;32m~/Applications/miniconda3/envs/pandapower312/lib/python3.12/site-packages/pandas/core/arrays/datetimes.py:1088\u001b[0m, in \u001b[0;36mDatetimeArray.tz_localize\u001b[0;34m(self, tz, ambiguous, nonexistent)\u001b[0m\n\u001b[1;32m   1085\u001b[0m     tz \u001b[38;5;241m=\u001b[39m timezones\u001b[38;5;241m.\u001b[39mmaybe_get_tz(tz)\n\u001b[1;32m   1086\u001b[0m     \u001b[38;5;66;03m# Convert to UTC\u001b[39;00m\n\u001b[0;32m-> 1088\u001b[0m     new_dates \u001b[38;5;241m=\u001b[39m \u001b[43mtzconversion\u001b[49m\u001b[38;5;241;43m.\u001b[39;49m\u001b[43mtz_localize_to_utc\u001b[49m\u001b[43m(\u001b[49m\n\u001b[1;32m   1089\u001b[0m \u001b[43m        \u001b[49m\u001b[38;5;28;43mself\u001b[39;49m\u001b[38;5;241;43m.\u001b[39;49m\u001b[43masi8\u001b[49m\u001b[43m,\u001b[49m\n\u001b[1;32m   1090\u001b[0m \u001b[43m        \u001b[49m\u001b[43mtz\u001b[49m\u001b[43m,\u001b[49m\n\u001b[1;32m   1091\u001b[0m \u001b[43m        \u001b[49m\u001b[43mambiguous\u001b[49m\u001b[38;5;241;43m=\u001b[39;49m\u001b[43mambiguous\u001b[49m\u001b[43m,\u001b[49m\n\u001b[1;32m   1092\u001b[0m \u001b[43m        \u001b[49m\u001b[43mnonexistent\u001b[49m\u001b[38;5;241;43m=\u001b[39;49m\u001b[43mnonexistent\u001b[49m\u001b[43m,\u001b[49m\n\u001b[1;32m   1093\u001b[0m \u001b[43m        \u001b[49m\u001b[43mcreso\u001b[49m\u001b[38;5;241;43m=\u001b[39;49m\u001b[38;5;28;43mself\u001b[39;49m\u001b[38;5;241;43m.\u001b[39;49m\u001b[43m_creso\u001b[49m\u001b[43m,\u001b[49m\n\u001b[1;32m   1094\u001b[0m \u001b[43m    \u001b[49m\u001b[43m)\u001b[49m\n\u001b[1;32m   1095\u001b[0m new_dates_dt64 \u001b[38;5;241m=\u001b[39m new_dates\u001b[38;5;241m.\u001b[39mview(\u001b[38;5;124mf\u001b[39m\u001b[38;5;124m\"\u001b[39m\u001b[38;5;124mM8[\u001b[39m\u001b[38;5;132;01m{\u001b[39;00m\u001b[38;5;28mself\u001b[39m\u001b[38;5;241m.\u001b[39munit\u001b[38;5;132;01m}\u001b[39;00m\u001b[38;5;124m]\u001b[39m\u001b[38;5;124m\"\u001b[39m)\n\u001b[1;32m   1096\u001b[0m dtype \u001b[38;5;241m=\u001b[39m tz_to_dtype(tz, unit\u001b[38;5;241m=\u001b[39m\u001b[38;5;28mself\u001b[39m\u001b[38;5;241m.\u001b[39munit)\n",
      "File \u001b[0;32mtzconversion.pyx:431\u001b[0m, in \u001b[0;36mpandas._libs.tslibs.tzconversion.tz_localize_to_utc\u001b[0;34m()\u001b[0m\n",
      "\u001b[0;31mNonExistentTimeError\u001b[0m: 2015-03-29 02:00:00"
     ]
    }
   ],
   "source": [
    "# We also have to use load profiles with timezone now! Should be changed in functionality, as this is in local time\n",
    "g0.tz_localize('Europe/Berlin')"
   ]
  },
  {
   "cell_type": "code",
   "execution_count": 60,
   "id": "60328158-d95d-4bb7-93da-91866e682601",
   "metadata": {
    "tags": []
   },
   "outputs": [
    {
     "data": {
      "text/html": [
       "<div>\n",
       "<style scoped>\n",
       "    .dataframe tbody tr th:only-of-type {\n",
       "        vertical-align: middle;\n",
       "    }\n",
       "\n",
       "    .dataframe tbody tr th {\n",
       "        vertical-align: top;\n",
       "    }\n",
       "\n",
       "    .dataframe thead th {\n",
       "        text-align: right;\n",
       "    }\n",
       "</style>\n",
       "<table border=\"1\" class=\"dataframe\">\n",
       "  <thead>\n",
       "    <tr style=\"text-align: right;\">\n",
       "      <th></th>\n",
       "      <th>0</th>\n",
       "    </tr>\n",
       "  </thead>\n",
       "  <tbody>\n",
       "    <tr>\n",
       "      <th>2015-01-01 00:15:00+01:00</th>\n",
       "      <td>63.2</td>\n",
       "    </tr>\n",
       "    <tr>\n",
       "      <th>2015-01-01 00:30:00+01:00</th>\n",
       "      <td>61.0</td>\n",
       "    </tr>\n",
       "    <tr>\n",
       "      <th>2015-01-01 00:45:00+01:00</th>\n",
       "      <td>58.9</td>\n",
       "    </tr>\n",
       "    <tr>\n",
       "      <th>2015-01-01 01:00:00+01:00</th>\n",
       "      <td>57.0</td>\n",
       "    </tr>\n",
       "    <tr>\n",
       "      <th>2015-01-01 01:15:00+01:00</th>\n",
       "      <td>55.3</td>\n",
       "    </tr>\n",
       "  </tbody>\n",
       "</table>\n",
       "</div>"
      ],
      "text/plain": [
       "                              0\n",
       "2015-01-01 00:15:00+01:00  63.2\n",
       "2015-01-01 00:30:00+01:00  61.0\n",
       "2015-01-01 00:45:00+01:00  58.9\n",
       "2015-01-01 01:00:00+01:00  57.0\n",
       "2015-01-01 01:15:00+01:00  55.3"
      ]
     },
     "execution_count": 60,
     "metadata": {},
     "output_type": "execute_result"
    }
   ],
   "source": [
    "g0 = g0.tz_localize('Europe/Berlin', ambiguous='NaT', nonexistent='shift_forward')\n",
    "g0.head()"
   ]
  },
  {
   "cell_type": "code",
   "execution_count": 61,
   "id": "8a714f23-ad1a-420d-b79d-af75e8fd98f6",
   "metadata": {
    "tags": []
   },
   "outputs": [
    {
     "name": "stdout",
     "output_type": "stream",
     "text": [
      "4\n"
     ]
    },
    {
     "name": "stderr",
     "output_type": "stream",
     "text": [
      "/tmp/ipykernel_75452/3086817296.py:3: FutureWarning: 'H' is deprecated and will be removed in a future version, please use 'h' instead.\n",
      "  g0h = g0.resample('H').mean()\n"
     ]
    },
    {
     "data": {
      "text/plain": [
       "0    2\n",
       "dtype: int64"
      ]
     },
     "execution_count": 61,
     "metadata": {},
     "output_type": "execute_result"
    }
   ],
   "source": [
    "# Handling missing values. After this suboptimal transformation, we have missing values now\n",
    "print(g0.index.isna().sum())\n",
    "g0h = g0.resample('H').mean()\n",
    "g0h.isna().sum()"
   ]
  },
  {
   "cell_type": "code",
   "execution_count": 92,
   "id": "ab95da41-8faf-418b-a8ad-aacb7c89fdda",
   "metadata": {
    "tags": []
   },
   "outputs": [
    {
     "data": {
      "text/plain": [
       "0    0\n",
       "dtype: int64"
      ]
     },
     "execution_count": 92,
     "metadata": {},
     "output_type": "execute_result"
    }
   ],
   "source": [
    "g0h = g0h.ffill()  # Here we use Forward fill, may use bfill or value\n",
    "# g0h = g0h.fillna(0)\n",
    "g0h.isna().sum()"
   ]
  },
  {
   "cell_type": "code",
   "execution_count": 101,
   "id": "ae63794c-9a27-471e-9da3-ae16c2a63a43",
   "metadata": {
    "tags": []
   },
   "outputs": [
    {
     "data": {
      "text/html": [
       "<div>\n",
       "<style scoped>\n",
       "    .dataframe tbody tr th:only-of-type {\n",
       "        vertical-align: middle;\n",
       "    }\n",
       "\n",
       "    .dataframe tbody tr th {\n",
       "        vertical-align: top;\n",
       "    }\n",
       "\n",
       "    .dataframe thead th {\n",
       "        text-align: right;\n",
       "    }\n",
       "</style>\n",
       "<table border=\"1\" class=\"dataframe\">\n",
       "  <thead>\n",
       "    <tr style=\"text-align: right;\">\n",
       "      <th></th>\n",
       "      <th>PV</th>\n",
       "      <th>G0</th>\n",
       "    </tr>\n",
       "  </thead>\n",
       "  <tbody>\n",
       "    <tr>\n",
       "      <th>2014-12-31 23:00:00+00:00</th>\n",
       "      <td>NaN</td>\n",
       "      <td>61.033333</td>\n",
       "    </tr>\n",
       "    <tr>\n",
       "      <th>2015-01-01 00:00:00+00:00</th>\n",
       "      <td>-0.1</td>\n",
       "      <td>54.525000</td>\n",
       "    </tr>\n",
       "    <tr>\n",
       "      <th>2015-01-01 01:00:00+00:00</th>\n",
       "      <td>-0.1</td>\n",
       "      <td>47.825000</td>\n",
       "    </tr>\n",
       "    <tr>\n",
       "      <th>2015-01-01 02:00:00+00:00</th>\n",
       "      <td>-0.1</td>\n",
       "      <td>42.900000</td>\n",
       "    </tr>\n",
       "    <tr>\n",
       "      <th>2015-01-01 03:00:00+00:00</th>\n",
       "      <td>-0.1</td>\n",
       "      <td>41.875000</td>\n",
       "    </tr>\n",
       "  </tbody>\n",
       "</table>\n",
       "</div>"
      ],
      "text/plain": [
       "                            PV         G0\n",
       "2014-12-31 23:00:00+00:00  NaN  61.033333\n",
       "2015-01-01 00:00:00+00:00 -0.1  54.525000\n",
       "2015-01-01 01:00:00+00:00 -0.1  47.825000\n",
       "2015-01-01 02:00:00+00:00 -0.1  42.900000\n",
       "2015-01-01 03:00:00+00:00 -0.1  41.875000"
      ]
     },
     "execution_count": 101,
     "metadata": {},
     "output_type": "execute_result"
    }
   ],
   "source": [
    "# Make one DF with pv and g0 data\n",
    "df = pd.DataFrame({'PV': pv['0'], 'G0': g0h.squeeze()})\n",
    "df.head()"
   ]
  },
  {
   "cell_type": "markdown",
   "id": "54f932f2-d509-4ae1-9f0e-5b452445aa65",
   "metadata": {},
   "source": [
    "### Grafische Libraries zum Arbeiten mit Pandas\n",
    "\n",
    "* mito / mitosheet\n",
    "* bamboolib\n",
    "* pandasgui\n",
    "\n",
    "Ich habe mitosheet getestet und glaube dass man damit ganz gut seinen Datenworkflow starten kann.\n",
    "Eine Sache die nicht so gut unterstützt wird sind Indizes."
   ]
  },
  {
   "cell_type": "markdown",
   "id": "5a26ce35-4303-4712-89bd-4020582fdc5e",
   "metadata": {},
   "source": [
    "## Visualisierung"
   ]
  },
  {
   "cell_type": "markdown",
   "id": "bf5a3be6-3ed6-4c57-80fa-939d867d51a5",
   "metadata": {},
   "source": [
    "Möglichkeiten:\n",
    "\n",
    "* matplotlib\n",
    "* seaborn\n",
    "* plotly"
   ]
  },
  {
   "cell_type": "markdown",
   "id": "0b98afdf-f46f-4099-b6f9-f5348084b3b2",
   "metadata": {},
   "source": [
    "## Daten\n",
    "\n",
    "* [APCS](https://www.apcs.at/de/clearing/technisches-clearing/lastprofile)\n",
    "* [OPSD](https://open-power-system-data.org/)\n",
    "* https://solar.htw-berlin.de/elektrische-lastprofile-fuer-wohngebaeude/\n",
    "* https://www.renewables.ninja/\n",
    "* https://joint-research-centre.ec.europa.eu/photovoltaic-geographical-information-system-pvgis_en\n",
    "* https://simbench.de/de/datensaetze/"
   ]
  },
  {
   "cell_type": "markdown",
   "id": "eea9bcba-9cba-472f-a761-2776bc578abb",
   "metadata": {},
   "source": [
    "## Libraries"
   ]
  },
  {
   "cell_type": "markdown",
   "id": "136ad3b0-6402-4147-b7f2-40affcdbcb40",
   "metadata": {},
   "source": [
    "### Anbindung Wiener Netze Smart Meter Daten\n",
    "\n",
    "Wiener Netze Smart Meter Portal https://smartmeter-web.wienernetze.at/#/welcome.\n",
    "\n",
    "Git Repository fuer Abruf ueber API: https://github.com/platysma/vienna-smartmeter"
   ]
  },
  {
   "cell_type": "markdown",
   "id": "f02accc8-91f4-45d8-ae92-1b088d837653",
   "metadata": {},
   "source": [
    "## Best Practices\n",
    "\n",
    "* Docstrings\n",
    "* Type Hints\n",
    "* Start with Notebook, move important pieces to .py file\n",
    "* black autoformatter\n",
    "* Exception Handling\n",
    "* autoreload"
   ]
  },
  {
   "cell_type": "code",
   "execution_count": null,
   "id": "ce239a9e-5258-46a9-9696-78a41bb59ea9",
   "metadata": {},
   "outputs": [],
   "source": []
  }
 ],
 "metadata": {
  "kernelspec": {
   "display_name": "pandapower312",
   "language": "python",
   "name": "python3"
  },
  "language_info": {
   "codemirror_mode": {
    "name": "ipython",
    "version": 3
   },
   "file_extension": ".py",
   "mimetype": "text/x-python",
   "name": "python",
   "nbconvert_exporter": "python",
   "pygments_lexer": "ipython3",
   "version": "3.12.7"
  }
 },
 "nbformat": 4,
 "nbformat_minor": 5
}
