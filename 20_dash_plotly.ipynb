{
 "cells": [
  {
   "cell_type": "markdown",
   "id": "69fd8b24-79e0-4c65-a165-d4aedb14497b",
   "metadata": {},
   "source": [
    "# Dash\n",
    "\n",
    "Dash from plotly is a library for rapidly building data apps, including interactive components and visualisations.\n",
    "\n",
    "Documentation:\n",
    "* [Dash](https://dash.plotly.com/)\n",
    "* Plotting is done with [plotly](https://plotly.com/python/)\n",
    "* [Dash Bootstrap Components](https://dash-bootstrap-components.opensource.faculty.ai/) to style and structure your app\n",
    "\n",
    "The documentation is pretty good, so here we will just go through the basics, look at interesting features and show how you can structure a complete app."
   ]
  },
  {
   "cell_type": "markdown",
   "id": "0ab6fa5f-54ec-46ac-8984-418b9c6f79f1",
   "metadata": {},
   "source": [
    "## Layout\n",
    "\n",
    "With the layout you define what the app looks like.\n",
    "\n",
    "A simple Dash app uses simple [HTML Components](https://dash.plotly.com/dash-html-components) and [Dash Core Components](https://dash.plotly.com/dash-core-components) for interactive components."
   ]
  },
  {
   "cell_type": "markdown",
   "id": "4e66a79f-7d97-49e3-8c6d-38600ecd0e75",
   "metadata": {},
   "source": [
    "**Setup**"
   ]
  },
  {
   "cell_type": "code",
   "execution_count": null,
   "id": "abc6c02b-9245-4ad8-881b-f516b3a6333c",
   "metadata": {
    "tags": []
   },
   "outputs": [],
   "source": [
    "# Import packages and data\n",
    "import datetime\n",
    "from pathlib import Path\n",
    "\n",
    "import pandas as pd\n",
    "import plotly.express as px\n",
    "from dash import Dash, dcc, html\n",
    "import dash_bootstrap_components as dbc\n",
    "\n",
    "from src.load_profiles import get_load_profile"
   ]
  },
  {
   "cell_type": "code",
   "execution_count": null,
   "id": "8faf1e02-1f28-4edd-86e9-0d17d67a9c1d",
   "metadata": {
    "tags": []
   },
   "outputs": [],
   "source": [
    "# Get Lastprofil data\n",
    "lastprofile_file = (\n",
    "    Path(\".\") / \"external\" / \"Lastprofile\" / \"representative_profiles_vdew.xls\"\n",
    ")\n",
    "h0_2023 = get_load_profile(\n",
    "    lastprofile_file,\n",
    "    from_=datetime.date(2023, 1, 1),\n",
    "    to=datetime.date(2023, 12, 31),\n",
    "    type=\"H0\",\n",
    ")"
   ]
  },
  {
   "cell_type": "code",
   "execution_count": null,
   "id": "f7d94e33-094e-4caa-b63c-a8cbd1114422",
   "metadata": {
    "tags": []
   },
   "outputs": [],
   "source": [
    "# Make plot with plotly\n",
    "h0fig = px.line(h0_2023)\n",
    "h0fig.update_xaxes(title_text=\"Date\", range=[\"2023-03-01\", \"2023-03-14\"])\n",
    "h0fig.update_yaxes(title_text=\"Power [W]\");"
   ]
  },
  {
   "cell_type": "markdown",
   "id": "344b8dba-121a-41dd-a9ff-ff7caabbe4fb",
   "metadata": {},
   "source": [
    "### Small Dash App"
   ]
  },
  {
   "cell_type": "code",
   "execution_count": null,
   "id": "7b018e75-b946-47de-971e-63fcc2beae07",
   "metadata": {
    "tags": []
   },
   "outputs": [],
   "source": [
    "# Initialize the app\n",
    "app = Dash(__name__)\n",
    "\n",
    "app.layout = html.Div(\n",
    "    [  # Standard html container\n",
    "        html.H2(children=\"H0 Load Profile\"),  # Level 2 Heading\n",
    "        dcc.Graph(figure=h0fig),  # Graph component from Dash Core Components\n",
    "    ]\n",
    ")\n",
    "\n",
    "app.run(debug=True, port=8001)"
   ]
  },
  {
   "cell_type": "markdown",
   "id": "58ae5e2d-fbb5-4abb-8164-287779cd6c16",
   "metadata": {},
   "source": [
    "### Further Layout Components\n",
    "\n",
    "* For organizing the app we use [Dash Bootstrap Components](https://dash-bootstrap-components.opensource.faculty.ai/), can also directly use components from there\n",
    "* dcc has also many input components\n",
    "* [DataTable](https://dash.plotly.com/datatable) is very useful for tabular data, with also interactive possibilities.\n",
    "* Maps can be created by using [plotly Mapbox](https://plotly.com/python/maps/) plots."
   ]
  },
  {
   "cell_type": "code",
   "execution_count": null,
   "id": "46dffae6-6220-4a41-9db8-1b5ff0141893",
   "metadata": {
    "tags": []
   },
   "outputs": [],
   "source": [
    "# Layout for further example with callbacks. Has to use component ids for interactive components.\n",
    "\n",
    "# Dropdown for Profile Type, date range selector, plot.\n",
    "# Use dbc.Row and Column"
   ]
  },
  {
   "cell_type": "code",
   "execution_count": null,
   "id": "5f78b538-6ce0-4b7f-8506-2c55c76b5d3b",
   "metadata": {},
   "outputs": [],
   "source": []
  },
  {
   "cell_type": "markdown",
   "id": "8d031194-4043-43d6-9219-95b3900b1c3c",
   "metadata": {},
   "source": [
    "**Map of Vienna**\n",
    "\n",
    "For Access Token follow  https://plotly.com/python/mapbox-layers/"
   ]
  },
  {
   "cell_type": "code",
   "execution_count": null,
   "id": "f4bcdde0-680c-49a2-b7d3-bcb18101fe97",
   "metadata": {
    "tags": []
   },
   "outputs": [],
   "source": [
    "mapbox_access_token = \"pk.eyJ1IjoiY2hhbmNoZWVrZWFuIiwiYSI6ImNqdjgzYmYzNjBmeDQzem43MzIwcnI1djMifQ.igdgIdtTUOVIAXO7WA2ZBw\"\n",
    "px.set_mapbox_access_token(mapbox_access_token)"
   ]
  },
  {
   "cell_type": "code",
   "execution_count": null,
   "id": "55ff624c-baa4-4f20-946f-023b24f1ecbe",
   "metadata": {
    "tags": []
   },
   "outputs": [],
   "source": [
    "data = pd.DataFrame(\n",
    "    {\n",
    "        \"station_id\": ['hier', 'da', 'dort', 'links', 'rechts', 'weg', 'null'],\n",
    "        \"lat\": [48.227, 48.235, 48.234, 48.229, 48.230, 48.227, 48.224],\n",
    "        \"long\": [16.502, 16.474, 16.474, 16.475, 16.495, 16.491, 16.498],\n",
    "        \"cluster\": [\"c1\", \"c2\", \"c3\", \"c4\", \"c3\", \"c2\", \"c3\"],\n",
    "        \"annual\": [0.2, 0.3, 0.2, 0.4, 0.2, 0.3, 0.2],\n",
    "    }\n",
    ")"
   ]
  },
  {
   "cell_type": "code",
   "execution_count": null,
   "id": "1d6f2ce7-d991-48f6-aa74-bd821672d0f2",
   "metadata": {
    "tags": []
   },
   "outputs": [],
   "source": [
    "map_vie = px.scatter_mapbox(\n",
    "    data,\n",
    "    lat=\"lat\",\n",
    "    lon=\"long\",\n",
    "    size=\"annual\",\n",
    "    color=\"cluster\",\n",
    "    custom_data=[data.station_id],\n",
    "    hover_name=data.station_id,\n",
    "    color_continuous_scale=px.colors.cyclical.IceFire,\n",
    "    size_max=10,\n",
    "    zoom=9,\n",
    "    category_orders={\"cluster\": [\"c1\", \"c2\", \"c3\", \"c4\"]},\n",
    ")\n",
    "\n",
    "map_vie.update_layout(\n",
    "    autosize=True,\n",
    "    showlegend=True,\n",
    "    hovermode=\"closest\",\n",
    "    dragmode=\"select\",\n",
    "    clickmode=\"event+select\",\n",
    "    margin=dict(l=20, r=0, t=20, b=20),\n",
    "    font=dict(size=10),\n",
    "    mapbox=dict(accesstoken=mapbox_access_token, bearing=0, style=\"dark\", pitch=0),\n",
    ");"
   ]
  },
  {
   "cell_type": "code",
   "execution_count": null,
   "id": "0ee5ca09-0287-4e31-9d6d-0a610c476952",
   "metadata": {
    "tags": []
   },
   "outputs": [],
   "source": [
    "app = Dash(__name__)\n",
    "\n",
    "\n",
    "app.layout = dbc.Card(\n",
    "    [\n",
    "        dbc.CardHeader(\"Trafos Clustered\", className=\"card_header\"),\n",
    "        dcc.Graph(\n",
    "            figure=map_vie, config=dict(scrollZoom=True), style=dict(height=\"600px\")\n",
    "        ),\n",
    "    ],\n",
    "    color=\"dark\",\n",
    "    outline=True,\n",
    "    className=\"mb-2\",\n",
    ")\n",
    "\n",
    "app.run(debug=True, port=8002)"
   ]
  },
  {
   "cell_type": "markdown",
   "id": "46acb3fb-bf7f-4f31-93f8-bd6abc03993f",
   "metadata": {},
   "source": [
    "## Callbacks\n",
    "\n",
    "simple example making the above responsive. \n",
    "\n",
    "Further topics:\n",
    "* Possibility of using State.\n",
    "* PreventUpdate and prevent_initial_call\n",
    "* allow_duplicate"
   ]
  },
  {
   "cell_type": "markdown",
   "id": "079dbb8b-3ba0-468e-ad5a-23adba9b783f",
   "metadata": {},
   "source": [
    "## App structure and general remarks\n",
    "\n",
    "For deploying the app, I suggest to break apart the main parts of the app into at least three files:\n",
    "\n",
    "```\n",
    "- app.py\n",
    "- layout.py\n",
    "- callbacks.py\n",
    "```\n",
    "\n",
    "It is best to not mix the programming logic with the app, so load the functions in *callbacks.py*,\n",
    "but define them in another file, folder or package.\n",
    "\n",
    "I added an example Dash App in the *app/* folder. It can be run directly by \n",
    "\n",
    "```bash\n",
    "python app/app.py\n",
    "```\n",
    "\n",
    "for local development. If you want to run a more stable version, that can also be accessed from the network, use\n",
    "a WSGI like waitress or gunicorn. This is done in *wsgi.py* but can also be done directly from the command line:\n",
    "\n",
    "```bash\n",
    "waitress-serve app:server --host=0.0.0.0 --port 8050\n",
    "```"
   ]
  },
  {
   "cell_type": "code",
   "execution_count": null,
   "id": "7db23d8d-68d2-456d-b4cd-875b65449185",
   "metadata": {},
   "outputs": [],
   "source": []
  }
 ],
 "metadata": {
  "kernelspec": {
   "display_name": "Python 3 (ipykernel)",
   "language": "python",
   "name": "python3"
  },
  "language_info": {
   "codemirror_mode": {
    "name": "ipython",
    "version": 3
   },
   "file_extension": ".py",
   "mimetype": "text/x-python",
   "name": "python",
   "nbconvert_exporter": "python",
   "pygments_lexer": "ipython3",
   "version": "3.11.6"
  }
 },
 "nbformat": 4,
 "nbformat_minor": 5
}
